{
 "cells": [
  {
   "cell_type": "code",
   "execution_count": 2,
   "outputs": [],
   "source": [
    "import psycopg2 as ps\n",
    "import pandas as pd\n",
    "import altair as alt"
   ],
   "metadata": {
    "collapsed": false,
    "pycharm": {
     "name": "#%%\n"
    }
   }
  },
  {
   "cell_type": "markdown",
   "source": [
    "Load data from database"
   ],
   "metadata": {
    "collapsed": false,
    "pycharm": {
     "name": "#%% md\n"
    }
   }
  },
  {
   "cell_type": "code",
   "execution_count": 160,
   "outputs": [
    {
     "name": "stderr",
     "output_type": "stream",
     "text": [
      "C:\\Users\\morti\\AppData\\Local\\Temp\\ipykernel_23216\\488614218.py:3: UserWarning: pandas only supports SQLAlchemy connectable (engine/connection) or database string URI or sqlite3 DBAPI2 connection. Other DBAPI2 objects are not tested. Please consider using SQLAlchemy.\n",
      "  df = pd.read_sql_query(query, conn)\n"
     ]
    },
    {
     "data": {
      "text/plain": "        id         userid         page     actionname                  tstamp   \n0      541  019132e398e18        index  Change weight 2023-05-14 09:00:12.369  \\\n1      542  019132e398e18        index  Change weight 2023-05-14 09:00:15.249   \n2      543  019132e398e18        index  Change weight 2023-05-14 09:00:17.038   \n3      139  f00db05d7655b        index  Change weight 2023-05-11 20:35:28.742   \n4      140  f00db05d7655b        index  Change weight 2023-05-11 20:35:34.023   \n...    ...            ...          ...            ...                     ...   \n3136  2682  3be8366dd8f36  ResultsPage    CloseDialog 2023-05-23 18:14:13.000   \n3137  2679  3be8366dd8f36  ResultsPage    CloseDialog 2023-05-23 18:14:15.000   \n3138  2680  3be8366dd8f36  ResultsPage    CloseDialog 2023-05-23 18:14:09.000   \n3139  2677  3be8366dd8f36  ResultsPage     openDialog 2023-05-23 18:14:14.000   \n3140  2681  3be8366dd8f36  ResultsPage     openDialog 2023-05-23 18:14:08.000   \n\n                                                   json    isExpert  version  \n0     {'Axis': 'Pose', 'name': 'Change weight', 'pag...      Expert  LC + EH  \n1     {'Axis': 'Pose', 'name': 'Change weight', 'pag...      Expert  LC + EH  \n2     {'Axis': 'Pose', 'name': 'Change weight', 'pag...      Expert  LC + EH  \n3     {'Axis': 'Pose', 'name': 'Change weight', 'pag...  Non-Expert  LC + ES  \n4     {'Axis': 'Pose', 'name': 'Change weight', 'pag...  Non-Expert  LC + ES  \n...                                                 ...         ...      ...  \n3136  {'name': 'CloseDialog', 'page': 'ResultsPage',...  Non-Expert  LC + EH  \n3137  {'name': 'CloseDialog', 'page': 'ResultsPage',...  Non-Expert  LC + EH  \n3138  {'name': 'CloseDialog', 'page': 'ResultsPage',...  Non-Expert  LC + EH  \n3139  {'name': 'openDialog', 'page': 'ResultsPage', ...  Non-Expert  LC + EH  \n3140  {'name': 'openDialog', 'page': 'ResultsPage', ...  Non-Expert  LC + EH  \n\n[3069 rows x 8 columns]",
      "text/html": "<div>\n<style scoped>\n    .dataframe tbody tr th:only-of-type {\n        vertical-align: middle;\n    }\n\n    .dataframe tbody tr th {\n        vertical-align: top;\n    }\n\n    .dataframe thead th {\n        text-align: right;\n    }\n</style>\n<table border=\"1\" class=\"dataframe\">\n  <thead>\n    <tr style=\"text-align: right;\">\n      <th></th>\n      <th>id</th>\n      <th>userid</th>\n      <th>page</th>\n      <th>actionname</th>\n      <th>tstamp</th>\n      <th>json</th>\n      <th>isExpert</th>\n      <th>version</th>\n    </tr>\n  </thead>\n  <tbody>\n    <tr>\n      <th>0</th>\n      <td>541</td>\n      <td>019132e398e18</td>\n      <td>index</td>\n      <td>Change weight</td>\n      <td>2023-05-14 09:00:12.369</td>\n      <td>{'Axis': 'Pose', 'name': 'Change weight', 'pag...</td>\n      <td>Expert</td>\n      <td>LC + EH</td>\n    </tr>\n    <tr>\n      <th>1</th>\n      <td>542</td>\n      <td>019132e398e18</td>\n      <td>index</td>\n      <td>Change weight</td>\n      <td>2023-05-14 09:00:15.249</td>\n      <td>{'Axis': 'Pose', 'name': 'Change weight', 'pag...</td>\n      <td>Expert</td>\n      <td>LC + EH</td>\n    </tr>\n    <tr>\n      <th>2</th>\n      <td>543</td>\n      <td>019132e398e18</td>\n      <td>index</td>\n      <td>Change weight</td>\n      <td>2023-05-14 09:00:17.038</td>\n      <td>{'Axis': 'Pose', 'name': 'Change weight', 'pag...</td>\n      <td>Expert</td>\n      <td>LC + EH</td>\n    </tr>\n    <tr>\n      <th>3</th>\n      <td>139</td>\n      <td>f00db05d7655b</td>\n      <td>index</td>\n      <td>Change weight</td>\n      <td>2023-05-11 20:35:28.742</td>\n      <td>{'Axis': 'Pose', 'name': 'Change weight', 'pag...</td>\n      <td>Non-Expert</td>\n      <td>LC + ES</td>\n    </tr>\n    <tr>\n      <th>4</th>\n      <td>140</td>\n      <td>f00db05d7655b</td>\n      <td>index</td>\n      <td>Change weight</td>\n      <td>2023-05-11 20:35:34.023</td>\n      <td>{'Axis': 'Pose', 'name': 'Change weight', 'pag...</td>\n      <td>Non-Expert</td>\n      <td>LC + ES</td>\n    </tr>\n    <tr>\n      <th>...</th>\n      <td>...</td>\n      <td>...</td>\n      <td>...</td>\n      <td>...</td>\n      <td>...</td>\n      <td>...</td>\n      <td>...</td>\n      <td>...</td>\n    </tr>\n    <tr>\n      <th>3136</th>\n      <td>2682</td>\n      <td>3be8366dd8f36</td>\n      <td>ResultsPage</td>\n      <td>CloseDialog</td>\n      <td>2023-05-23 18:14:13.000</td>\n      <td>{'name': 'CloseDialog', 'page': 'ResultsPage',...</td>\n      <td>Non-Expert</td>\n      <td>LC + EH</td>\n    </tr>\n    <tr>\n      <th>3137</th>\n      <td>2679</td>\n      <td>3be8366dd8f36</td>\n      <td>ResultsPage</td>\n      <td>CloseDialog</td>\n      <td>2023-05-23 18:14:15.000</td>\n      <td>{'name': 'CloseDialog', 'page': 'ResultsPage',...</td>\n      <td>Non-Expert</td>\n      <td>LC + EH</td>\n    </tr>\n    <tr>\n      <th>3138</th>\n      <td>2680</td>\n      <td>3be8366dd8f36</td>\n      <td>ResultsPage</td>\n      <td>CloseDialog</td>\n      <td>2023-05-23 18:14:09.000</td>\n      <td>{'name': 'CloseDialog', 'page': 'ResultsPage',...</td>\n      <td>Non-Expert</td>\n      <td>LC + EH</td>\n    </tr>\n    <tr>\n      <th>3139</th>\n      <td>2677</td>\n      <td>3be8366dd8f36</td>\n      <td>ResultsPage</td>\n      <td>openDialog</td>\n      <td>2023-05-23 18:14:14.000</td>\n      <td>{'name': 'openDialog', 'page': 'ResultsPage', ...</td>\n      <td>Non-Expert</td>\n      <td>LC + EH</td>\n    </tr>\n    <tr>\n      <th>3140</th>\n      <td>2681</td>\n      <td>3be8366dd8f36</td>\n      <td>ResultsPage</td>\n      <td>openDialog</td>\n      <td>2023-05-23 18:14:08.000</td>\n      <td>{'name': 'openDialog', 'page': 'ResultsPage', ...</td>\n      <td>Non-Expert</td>\n      <td>LC + EH</td>\n    </tr>\n  </tbody>\n</table>\n<p>3069 rows × 8 columns</p>\n</div>"
     },
     "execution_count": 160,
     "metadata": {},
     "output_type": "execute_result"
    }
   ],
   "source": [
    "conn = ps.connect(database=\"example\", user=\"user\", password=\"user_pass\", host=\"picasso.experiments.cs.kuleuven.be\", port=\"3895\")\n",
    "query = \"SELECT * FROM actions\"\n",
    "df = pd.read_sql_query(query, conn)\n",
    "conn.close()\n",
    "#load data from csv\n",
    "topX = pd.read_csv('avg_topX.csv')\n",
    "\n",
    "#load data from csv\n",
    "questionnaire = pd.read_csv('questionnaire_parsed.csv')\n",
    "\n",
    "df = df.merge(questionnaire[['userid', 'isExpert', 'version']], on='userid', how='left')\n",
    "df = df.drop(columns=['version_x'])\n",
    "df = df.rename(columns={'version_y': 'version'})\n",
    "\n",
    "#remove all actions from user 13456a187bb82a\n",
    "\n",
    "df = df[df['userid'] != '41910f46383ae']\n",
    "\n",
    "\n",
    "#set timestamp to 'DD-MM-YYYY HH:MM AM/PM', no seconds, or milliseconds\n",
    "\n",
    "# df['formatted_tstamp'] = df['tstamp'].dt.strftime('%d-%m-%Y %I:%M %p')\n",
    "\n",
    "\n",
    "#load data from csv\n"
   ],
   "metadata": {
    "collapsed": false,
    "pycharm": {
     "name": "#%%\n"
    }
   }
  },
  {
   "cell_type": "code",
   "execution_count": 161,
   "outputs": [
    {
     "data": {
      "text/plain": "            userid  count    isExpert\n0    2bf0b2caeede3      8      Expert\n1    49eaabd33a20a     13      Expert\n2    4a83d2a70ed38     25      Expert\n3   5e09a989f3a0e8     39      Expert\n4    66d235530e05e     33      Expert\n5    79262589165e6      2      Expert\n6    8a832fac71fbc     27      Expert\n7    92541790deac9     29      Expert\n8    99e22b182c01d     20      Expert\n9    e22b6a3fc3f23     12      Expert\n10   04a419bf11412     24  Non-Expert\n11  0c215e7cea7f38     11  Non-Expert\n12  16f7882aa59908     19  Non-Expert\n13  29152f1697ff68     28  Non-Expert\n14   32993a5b624ce     16  Non-Expert\n15   3be8366dd8f36      5  Non-Expert\n16   4b4fd1df20701     14  Non-Expert\n17  4c551d03385cc8      4  Non-Expert\n18   5659c176d639c     10  Non-Expert\n19   63b60facbb9fa     33  Non-Expert\n20   6b030d6c6269e     19  Non-Expert\n21   71758b148f361     16  Non-Expert\n22   8000b24933e6f     38  Non-Expert\n23    8791745ecfd4     18  Non-Expert\n24  9bb8d10b5efac8     13  Non-Expert\n25   a6be8c17c479a      1  Non-Expert\n26  ac47e32ad27e18     17  Non-Expert\n27   b267c008f5ece     15  Non-Expert\n28    df3aaac2c129      8  Non-Expert\n29   e6c309da2bc4f     11  Non-Expert\n30   e94cf9edf908f     14  Non-Expert\n31    eb5cdf7ca9b5     30  Non-Expert\n32   f00db05d7655b     87  Non-Expert\n33   f04e4b0696f26      9  Non-Expert",
      "text/html": "<div>\n<style scoped>\n    .dataframe tbody tr th:only-of-type {\n        vertical-align: middle;\n    }\n\n    .dataframe tbody tr th {\n        vertical-align: top;\n    }\n\n    .dataframe thead th {\n        text-align: right;\n    }\n</style>\n<table border=\"1\" class=\"dataframe\">\n  <thead>\n    <tr style=\"text-align: right;\">\n      <th></th>\n      <th>userid</th>\n      <th>count</th>\n      <th>isExpert</th>\n    </tr>\n  </thead>\n  <tbody>\n    <tr>\n      <th>0</th>\n      <td>2bf0b2caeede3</td>\n      <td>8</td>\n      <td>Expert</td>\n    </tr>\n    <tr>\n      <th>1</th>\n      <td>49eaabd33a20a</td>\n      <td>13</td>\n      <td>Expert</td>\n    </tr>\n    <tr>\n      <th>2</th>\n      <td>4a83d2a70ed38</td>\n      <td>25</td>\n      <td>Expert</td>\n    </tr>\n    <tr>\n      <th>3</th>\n      <td>5e09a989f3a0e8</td>\n      <td>39</td>\n      <td>Expert</td>\n    </tr>\n    <tr>\n      <th>4</th>\n      <td>66d235530e05e</td>\n      <td>33</td>\n      <td>Expert</td>\n    </tr>\n    <tr>\n      <th>5</th>\n      <td>79262589165e6</td>\n      <td>2</td>\n      <td>Expert</td>\n    </tr>\n    <tr>\n      <th>6</th>\n      <td>8a832fac71fbc</td>\n      <td>27</td>\n      <td>Expert</td>\n    </tr>\n    <tr>\n      <th>7</th>\n      <td>92541790deac9</td>\n      <td>29</td>\n      <td>Expert</td>\n    </tr>\n    <tr>\n      <th>8</th>\n      <td>99e22b182c01d</td>\n      <td>20</td>\n      <td>Expert</td>\n    </tr>\n    <tr>\n      <th>9</th>\n      <td>e22b6a3fc3f23</td>\n      <td>12</td>\n      <td>Expert</td>\n    </tr>\n    <tr>\n      <th>10</th>\n      <td>04a419bf11412</td>\n      <td>24</td>\n      <td>Non-Expert</td>\n    </tr>\n    <tr>\n      <th>11</th>\n      <td>0c215e7cea7f38</td>\n      <td>11</td>\n      <td>Non-Expert</td>\n    </tr>\n    <tr>\n      <th>12</th>\n      <td>16f7882aa59908</td>\n      <td>19</td>\n      <td>Non-Expert</td>\n    </tr>\n    <tr>\n      <th>13</th>\n      <td>29152f1697ff68</td>\n      <td>28</td>\n      <td>Non-Expert</td>\n    </tr>\n    <tr>\n      <th>14</th>\n      <td>32993a5b624ce</td>\n      <td>16</td>\n      <td>Non-Expert</td>\n    </tr>\n    <tr>\n      <th>15</th>\n      <td>3be8366dd8f36</td>\n      <td>5</td>\n      <td>Non-Expert</td>\n    </tr>\n    <tr>\n      <th>16</th>\n      <td>4b4fd1df20701</td>\n      <td>14</td>\n      <td>Non-Expert</td>\n    </tr>\n    <tr>\n      <th>17</th>\n      <td>4c551d03385cc8</td>\n      <td>4</td>\n      <td>Non-Expert</td>\n    </tr>\n    <tr>\n      <th>18</th>\n      <td>5659c176d639c</td>\n      <td>10</td>\n      <td>Non-Expert</td>\n    </tr>\n    <tr>\n      <th>19</th>\n      <td>63b60facbb9fa</td>\n      <td>33</td>\n      <td>Non-Expert</td>\n    </tr>\n    <tr>\n      <th>20</th>\n      <td>6b030d6c6269e</td>\n      <td>19</td>\n      <td>Non-Expert</td>\n    </tr>\n    <tr>\n      <th>21</th>\n      <td>71758b148f361</td>\n      <td>16</td>\n      <td>Non-Expert</td>\n    </tr>\n    <tr>\n      <th>22</th>\n      <td>8000b24933e6f</td>\n      <td>38</td>\n      <td>Non-Expert</td>\n    </tr>\n    <tr>\n      <th>23</th>\n      <td>8791745ecfd4</td>\n      <td>18</td>\n      <td>Non-Expert</td>\n    </tr>\n    <tr>\n      <th>24</th>\n      <td>9bb8d10b5efac8</td>\n      <td>13</td>\n      <td>Non-Expert</td>\n    </tr>\n    <tr>\n      <th>25</th>\n      <td>a6be8c17c479a</td>\n      <td>1</td>\n      <td>Non-Expert</td>\n    </tr>\n    <tr>\n      <th>26</th>\n      <td>ac47e32ad27e18</td>\n      <td>17</td>\n      <td>Non-Expert</td>\n    </tr>\n    <tr>\n      <th>27</th>\n      <td>b267c008f5ece</td>\n      <td>15</td>\n      <td>Non-Expert</td>\n    </tr>\n    <tr>\n      <th>28</th>\n      <td>df3aaac2c129</td>\n      <td>8</td>\n      <td>Non-Expert</td>\n    </tr>\n    <tr>\n      <th>29</th>\n      <td>e6c309da2bc4f</td>\n      <td>11</td>\n      <td>Non-Expert</td>\n    </tr>\n    <tr>\n      <th>30</th>\n      <td>e94cf9edf908f</td>\n      <td>14</td>\n      <td>Non-Expert</td>\n    </tr>\n    <tr>\n      <th>31</th>\n      <td>eb5cdf7ca9b5</td>\n      <td>30</td>\n      <td>Non-Expert</td>\n    </tr>\n    <tr>\n      <th>32</th>\n      <td>f00db05d7655b</td>\n      <td>87</td>\n      <td>Non-Expert</td>\n    </tr>\n    <tr>\n      <th>33</th>\n      <td>f04e4b0696f26</td>\n      <td>9</td>\n      <td>Non-Expert</td>\n    </tr>\n  </tbody>\n</table>\n</div>"
     },
     "execution_count": 161,
     "metadata": {},
     "output_type": "execute_result"
    }
   ],
   "source": [
    "##table headers:id,userid,page,version,actionname,tstamp,json\n",
    "#count times actionname 'openDialog' per user else set to 0\n",
    "df_openDialog = df[df['actionname'] == 'openDialog'].groupby(['isExpert', 'userid']).count().reset_index()[['userid', 'actionname', 'isExpert']]\n",
    "df_openDialog.columns = ['userid', 'count', 'isExpert']\n",
    "\n",
    "#save to csv\n",
    "df_openDialog.to_csv('countDialogOpen.csv', index=False)\n",
    "\n",
    "df_openDialog"
   ],
   "metadata": {
    "collapsed": false,
    "pycharm": {
     "name": "#%%\n"
    }
   }
  },
  {
   "cell_type": "code",
   "execution_count": 163,
   "outputs": [
    {
     "data": {
      "text/html": "\n<style>\n  #altair-viz-7d5457e20fe84da390904b9303735d0a.vega-embed {\n    width: 100%;\n    display: flex;\n  }\n\n  #altair-viz-7d5457e20fe84da390904b9303735d0a.vega-embed details,\n  #altair-viz-7d5457e20fe84da390904b9303735d0a.vega-embed details summary {\n    position: relative;\n  }\n</style>\n<div id=\"altair-viz-7d5457e20fe84da390904b9303735d0a\"></div>\n<script type=\"text/javascript\">\n  var VEGA_DEBUG = (typeof VEGA_DEBUG == \"undefined\") ? {} : VEGA_DEBUG;\n  (function(spec, embedOpt){\n    let outputDiv = document.currentScript.previousElementSibling;\n    if (outputDiv.id !== \"altair-viz-7d5457e20fe84da390904b9303735d0a\") {\n      outputDiv = document.getElementById(\"altair-viz-7d5457e20fe84da390904b9303735d0a\");\n    }\n    const paths = {\n      \"vega\": \"https://cdn.jsdelivr.net/npm/vega@5?noext\",\n      \"vega-lib\": \"https://cdn.jsdelivr.net/npm/vega-lib?noext\",\n      \"vega-lite\": \"https://cdn.jsdelivr.net/npm/vega-lite@5.8.0?noext\",\n      \"vega-embed\": \"https://cdn.jsdelivr.net/npm/vega-embed@6?noext\",\n    };\n\n    function maybeLoadScript(lib, version) {\n      var key = `${lib.replace(\"-\", \"\")}_version`;\n      return (VEGA_DEBUG[key] == version) ?\n        Promise.resolve(paths[lib]) :\n        new Promise(function(resolve, reject) {\n          var s = document.createElement('script');\n          document.getElementsByTagName(\"head\")[0].appendChild(s);\n          s.async = true;\n          s.onload = () => {\n            VEGA_DEBUG[key] = version;\n            return resolve(paths[lib]);\n          };\n          s.onerror = () => reject(`Error loading script: ${paths[lib]}`);\n          s.src = paths[lib];\n        });\n    }\n\n    function showError(err) {\n      outputDiv.innerHTML = `<div class=\"error\" style=\"color:red;\">${err}</div>`;\n      throw err;\n    }\n\n    function displayChart(vegaEmbed) {\n      vegaEmbed(outputDiv, spec, embedOpt)\n        .catch(err => showError(`Javascript Error: ${err.message}<br>This usually means there's a typo in your chart specification. See the javascript console for the full traceback.`));\n    }\n\n    if(typeof define === \"function\" && define.amd) {\n      requirejs.config({paths});\n      require([\"vega-embed\"], displayChart, err => showError(`Error loading script: ${err.message}`));\n    } else {\n      maybeLoadScript(\"vega\", \"5\")\n        .then(() => maybeLoadScript(\"vega-lite\", \"5.8.0\"))\n        .then(() => maybeLoadScript(\"vega-embed\", \"6\"))\n        .catch(showError)\n        .then(() => displayChart(vegaEmbed));\n    }\n  })({\"config\": {\"view\": {\"continuousWidth\": 300, \"continuousHeight\": 300}}, \"data\": {\"name\": \"data-fa7abfe6e73b00655be084c0a6701444\"}, \"mark\": {\"type\": \"bar\"}, \"encoding\": {\"color\": {\"field\": \"isExpert\", \"type\": \"nominal\"}, \"x\": {\"axis\": {\"labelAngle\": -45}, \"field\": \"actionname\", \"title\": \"Action name\", \"type\": \"nominal\"}, \"xOffset\": {\"field\": \"isExpert\", \"title\": \"User type\", \"type\": \"nominal\"}, \"y\": {\"field\": \"click_count\", \"title\": \"Average click count\", \"type\": \"quantitative\"}}, \"title\": \"Average clickcount per action on the advanced Settings page\", \"width\": 300, \"$schema\": \"https://vega.github.io/schema/vega-lite/v5.8.0.json\", \"datasets\": {\"data-fa7abfe6e73b00655be084c0a6701444\": [{\"page\": \"AdvancedSettings\", \"actionname\": \"Change weight\", \"isExpert\": \"Expert\", \"click_count\": 10.6}, {\"page\": \"AdvancedSettings\", \"actionname\": \"Change weight\", \"isExpert\": \"Non-Expert\", \"click_count\": 9.88888888888889}, {\"page\": \"AdvancedSettings\", \"actionname\": \"Color checkbox\", \"isExpert\": \"Expert\", \"click_count\": 9.0}, {\"page\": \"AdvancedSettings\", \"actionname\": \"Color checkbox\", \"isExpert\": \"Non-Expert\", \"click_count\": 7.625}, {\"page\": \"AdvancedSettings\", \"actionname\": \"Object checkbox\", \"isExpert\": \"Expert\", \"click_count\": 5.5}, {\"page\": \"AdvancedSettings\", \"actionname\": \"Object checkbox\", \"isExpert\": \"Non-Expert\", \"click_count\": 5.125}, {\"page\": \"AdvancedSettings\", \"actionname\": \"Pose checkbox\", \"isExpert\": \"Expert\", \"click_count\": 3.8}, {\"page\": \"AdvancedSettings\", \"actionname\": \"Pose checkbox\", \"isExpert\": \"Non-Expert\", \"click_count\": 3.142857142857143}]}}, {\"mode\": \"vega-lite\"});\n</script>",
      "text/plain": "alt.Chart(...)"
     },
     "execution_count": 163,
     "metadata": {},
     "output_type": "execute_result"
    }
   ],
   "source": [
    "x = df[['page', 'actionname', 'isExpert', 'userid']]\n",
    "\n",
    "x = x.groupby(['page', 'actionname', 'isExpert', 'userid']).size().reset_index(name='click_count')\n",
    "x = x.groupby(['page', 'actionname', 'isExpert'])['click_count'].mean().reset_index()\n",
    "\n",
    "#remove actionname = search rows\n",
    "x = x[x['actionname'] != 'search']\n",
    "\n",
    "y = x[x['page'] == 'AdvancedSettings']  # Filter for 'AdvancedSettings' page\n",
    "\n",
    "#rename 'changed color' rows to 'color checkbox'\n",
    "y.loc[y['actionname'] == 'Changed color', 'actionname'] = 'Color checkbox'\n",
    "y.loc[y['actionname'] == 'Changed object', 'actionname'] = 'Object checkbox'\n",
    "y.loc[y['actionname'] == 'Changed pose', 'actionname'] = 'Pose checkbox'\n",
    "\n",
    "chart = alt.Chart(y).mark_bar().encode(\n",
    "    x=alt.X('actionname:N', title='Action name', axis=alt.Axis(labelAngle=-45)),\n",
    "    y=alt.Y('click_count:Q', title='Average click count'),\n",
    "    color='isExpert:N',\n",
    "    xOffset=alt.XOffset('isExpert:N', title='User type')\n",
    ").properties(\n",
    "    title='Average clickcount per action on the advanced Settings page',\n",
    "    width=300\n",
    ")\n",
    "\n",
    "chart.save('charts/avg_clickcount_advancedSettings.png')\n",
    "\n",
    "chart"
   ],
   "metadata": {
    "collapsed": false,
    "pycharm": {
     "name": "#%%\n"
    }
   }
  },
  {
   "cell_type": "code",
   "execution_count": 164,
   "outputs": [
    {
     "data": {
      "text/html": "\n<style>\n  #altair-viz-71a0912599924b0395b144cf394d7970.vega-embed {\n    width: 100%;\n    display: flex;\n  }\n\n  #altair-viz-71a0912599924b0395b144cf394d7970.vega-embed details,\n  #altair-viz-71a0912599924b0395b144cf394d7970.vega-embed details summary {\n    position: relative;\n  }\n</style>\n<div id=\"altair-viz-71a0912599924b0395b144cf394d7970\"></div>\n<script type=\"text/javascript\">\n  var VEGA_DEBUG = (typeof VEGA_DEBUG == \"undefined\") ? {} : VEGA_DEBUG;\n  (function(spec, embedOpt){\n    let outputDiv = document.currentScript.previousElementSibling;\n    if (outputDiv.id !== \"altair-viz-71a0912599924b0395b144cf394d7970\") {\n      outputDiv = document.getElementById(\"altair-viz-71a0912599924b0395b144cf394d7970\");\n    }\n    const paths = {\n      \"vega\": \"https://cdn.jsdelivr.net/npm/vega@5?noext\",\n      \"vega-lib\": \"https://cdn.jsdelivr.net/npm/vega-lib?noext\",\n      \"vega-lite\": \"https://cdn.jsdelivr.net/npm/vega-lite@5.8.0?noext\",\n      \"vega-embed\": \"https://cdn.jsdelivr.net/npm/vega-embed@6?noext\",\n    };\n\n    function maybeLoadScript(lib, version) {\n      var key = `${lib.replace(\"-\", \"\")}_version`;\n      return (VEGA_DEBUG[key] == version) ?\n        Promise.resolve(paths[lib]) :\n        new Promise(function(resolve, reject) {\n          var s = document.createElement('script');\n          document.getElementsByTagName(\"head\")[0].appendChild(s);\n          s.async = true;\n          s.onload = () => {\n            VEGA_DEBUG[key] = version;\n            return resolve(paths[lib]);\n          };\n          s.onerror = () => reject(`Error loading script: ${paths[lib]}`);\n          s.src = paths[lib];\n        });\n    }\n\n    function showError(err) {\n      outputDiv.innerHTML = `<div class=\"error\" style=\"color:red;\">${err}</div>`;\n      throw err;\n    }\n\n    function displayChart(vegaEmbed) {\n      vegaEmbed(outputDiv, spec, embedOpt)\n        .catch(err => showError(`Javascript Error: ${err.message}<br>This usually means there's a typo in your chart specification. See the javascript console for the full traceback.`));\n    }\n\n    if(typeof define === \"function\" && define.amd) {\n      requirejs.config({paths});\n      require([\"vega-embed\"], displayChart, err => showError(`Error loading script: ${err.message}`));\n    } else {\n      maybeLoadScript(\"vega\", \"5\")\n        .then(() => maybeLoadScript(\"vega-lite\", \"5.8.0\"))\n        .then(() => maybeLoadScript(\"vega-embed\", \"6\"))\n        .catch(showError)\n        .then(() => displayChart(vegaEmbed));\n    }\n  })({\"config\": {\"view\": {\"continuousWidth\": 300, \"continuousHeight\": 300}}, \"data\": {\"name\": \"data-748094dd68ea1c668d3f64c89af9cc04\"}, \"mark\": {\"type\": \"bar\"}, \"encoding\": {\"color\": {\"field\": \"isExpert\", \"type\": \"nominal\"}, \"x\": {\"axis\": {\"labelAngle\": -45}, \"field\": \"page\", \"title\": \"Page\", \"type\": \"nominal\"}, \"xOffset\": {\"field\": \"isExpert\", \"type\": \"nominal\"}, \"y\": {\"field\": \"click_count\", \"title\": \"Total number of clicks\", \"type\": \"quantitative\"}}, \"title\": \"Total number of clicks per user type\", \"width\": 200, \"$schema\": \"https://vega.github.io/schema/vega-lite/v5.8.0.json\", \"datasets\": {\"data-748094dd68ea1c668d3f64c89af9cc04\": [{\"page\": \"High control\", \"isExpert\": \"Expert\", \"click_count\": 28.9}, {\"page\": \"High control\", \"isExpert\": \"Non-Expert\", \"click_count\": 25.78174603174603}, {\"page\": \"Low control\", \"isExpert\": \"Expert\", \"click_count\": 20.599999999999998}, {\"page\": \"Low control\", \"isExpert\": \"Non-Expert\", \"click_count\": 13.648351648351648}]}}, {\"mode\": \"vega-lite\"});\n</script>",
      "text/plain": "alt.Chart(...)"
     },
     "execution_count": 164,
     "metadata": {},
     "output_type": "execute_result"
    }
   ],
   "source": [
    "\n",
    "\n",
    "# sum op sum of average number of clicks per expertise per page\n",
    "total = x.groupby(['page', 'isExpert'])['click_count'].sum().reset_index()\n",
    "\n",
    "#remove all page='ResultsPage' rows\n",
    "total = total[total['page'] != 'ResultsPage']\n",
    "\n",
    "#rename all rows with page='AdvancedSettings' to 'High control'\n",
    "total.loc[total['page'] == 'AdvancedSettings', 'page'] = 'High control'\n",
    "\n",
    "#rename all rows with page='index' to 'Low control'\n",
    "total.loc[total['page'] == 'index', 'page'] = 'Low control'\n",
    "\n",
    "\n",
    "chart = alt.Chart(total).mark_bar().encode(\n",
    "    x=alt.X('page:N', title='Page',  axis=alt.Axis(labelAngle=-45)),\n",
    "    y=alt.Y('click_count:Q', title='Total number of clicks'),\n",
    "    color='isExpert:N',\n",
    "    xOffset='isExpert:N'\n",
    ").properties(\n",
    "    title='Total number of clicks per user type',\n",
    "    width=200\n",
    ")\n",
    "\n",
    "chart.save('charts/total_clickcount.png')\n",
    "\n",
    "chart"
   ],
   "metadata": {
    "collapsed": false,
    "pycharm": {
     "name": "#%%\n"
    }
   }
  },
  {
   "cell_type": "code",
   "execution_count": 165,
   "outputs": [
    {
     "data": {
      "text/html": "\n<style>\n  #altair-viz-71e78696044746979a97a46d84a12cbf.vega-embed {\n    width: 100%;\n    display: flex;\n  }\n\n  #altair-viz-71e78696044746979a97a46d84a12cbf.vega-embed details,\n  #altair-viz-71e78696044746979a97a46d84a12cbf.vega-embed details summary {\n    position: relative;\n  }\n</style>\n<div id=\"altair-viz-71e78696044746979a97a46d84a12cbf\"></div>\n<script type=\"text/javascript\">\n  var VEGA_DEBUG = (typeof VEGA_DEBUG == \"undefined\") ? {} : VEGA_DEBUG;\n  (function(spec, embedOpt){\n    let outputDiv = document.currentScript.previousElementSibling;\n    if (outputDiv.id !== \"altair-viz-71e78696044746979a97a46d84a12cbf\") {\n      outputDiv = document.getElementById(\"altair-viz-71e78696044746979a97a46d84a12cbf\");\n    }\n    const paths = {\n      \"vega\": \"https://cdn.jsdelivr.net/npm/vega@5?noext\",\n      \"vega-lib\": \"https://cdn.jsdelivr.net/npm/vega-lib?noext\",\n      \"vega-lite\": \"https://cdn.jsdelivr.net/npm/vega-lite@5.8.0?noext\",\n      \"vega-embed\": \"https://cdn.jsdelivr.net/npm/vega-embed@6?noext\",\n    };\n\n    function maybeLoadScript(lib, version) {\n      var key = `${lib.replace(\"-\", \"\")}_version`;\n      return (VEGA_DEBUG[key] == version) ?\n        Promise.resolve(paths[lib]) :\n        new Promise(function(resolve, reject) {\n          var s = document.createElement('script');\n          document.getElementsByTagName(\"head\")[0].appendChild(s);\n          s.async = true;\n          s.onload = () => {\n            VEGA_DEBUG[key] = version;\n            return resolve(paths[lib]);\n          };\n          s.onerror = () => reject(`Error loading script: ${paths[lib]}`);\n          s.src = paths[lib];\n        });\n    }\n\n    function showError(err) {\n      outputDiv.innerHTML = `<div class=\"error\" style=\"color:red;\">${err}</div>`;\n      throw err;\n    }\n\n    function displayChart(vegaEmbed) {\n      vegaEmbed(outputDiv, spec, embedOpt)\n        .catch(err => showError(`Javascript Error: ${err.message}<br>This usually means there's a typo in your chart specification. See the javascript console for the full traceback.`));\n    }\n\n    if(typeof define === \"function\" && define.amd) {\n      requirejs.config({paths});\n      require([\"vega-embed\"], displayChart, err => showError(`Error loading script: ${err.message}`));\n    } else {\n      maybeLoadScript(\"vega\", \"5\")\n        .then(() => maybeLoadScript(\"vega-lite\", \"5.8.0\"))\n        .then(() => maybeLoadScript(\"vega-embed\", \"6\"))\n        .catch(showError)\n        .then(() => displayChart(vegaEmbed));\n    }\n  })({\"config\": {\"view\": {\"continuousWidth\": 300, \"continuousHeight\": 300}}, \"data\": {\"name\": \"data-fb6e5c9531431fd51dc1af8ec7f53bf9\"}, \"mark\": {\"type\": \"bar\"}, \"encoding\": {\"color\": {\"field\": \"isExpert\", \"type\": \"nominal\"}, \"x\": {\"axis\": {\"labelAngle\": -45}, \"field\": \"version\", \"sort\": [\"LC + EH\", \"LC + ES\", \"HC + EH\", \"HC + ES\"], \"title\": \"User type\", \"type\": \"nominal\"}, \"xOffset\": {\"field\": \"isExpert\", \"type\": \"nominal\"}, \"y\": {\"field\": \"duration\", \"title\": \"Average duration (seconds)\", \"type\": \"quantitative\"}}, \"title\": \"Average session duration per version\", \"width\": 200, \"$schema\": \"https://vega.github.io/schema/vega-lite/v5.8.0.json\", \"datasets\": {\"data-fb6e5c9531431fd51dc1af8ec7f53bf9\": [{\"version\": \"HC + EH\", \"isExpert\": \"Expert\", \"duration\": 269.7776666666667}, {\"version\": \"HC + EH\", \"isExpert\": \"Non-Expert\", \"duration\": 162.31324999999998}, {\"version\": \"HC + ES\", \"isExpert\": \"Expert\", \"duration\": 353.717}, {\"version\": \"HC + ES\", \"isExpert\": \"Non-Expert\", \"duration\": 262.8048333333333}, {\"version\": \"LC + EH\", \"isExpert\": \"Expert\", \"duration\": 297.887}, {\"version\": \"LC + EH\", \"isExpert\": \"Non-Expert\", \"duration\": 236.11416666666665}, {\"version\": \"LC + ES\", \"isExpert\": \"Expert\", \"duration\": 437.45}, {\"version\": \"LC + ES\", \"isExpert\": \"Non-Expert\", \"duration\": 272.80920833333334}]}}, {\"mode\": \"vega-lite\"});\n</script>",
      "text/plain": "alt.Chart(...)"
     },
     "execution_count": 165,
     "metadata": {},
     "output_type": "execute_result"
    }
   ],
   "source": [
    "#duration of each user (see first and last action)\n",
    "\n",
    "#first action\n",
    "first = df.groupby(['userid', 'version','isExpert'])['tstamp'].min().reset_index()\n",
    "\n",
    "# last action (actionname = 'submitTop10')\n",
    "last = df[df['actionname'] == 'Submit Top 10'].groupby(['userid', 'version','isExpert'])['tstamp'].max().reset_index()\n",
    "\n",
    "last2 = df.groupby(['userid', 'version','isExpert'])['tstamp'].max().reset_index()\n",
    "\n",
    "\n",
    "#count how many times each user has clicked on 'Sumbit Top 10'\n",
    "count = df[df['actionname'] == 'Submit Top 10'].groupby(['userid', 'version'])['actionname'].count().reset_index()\n",
    "\n",
    "#merge count with first and last action\n",
    "\n",
    "first = first.merge(count, on=['userid', 'version' ], how='left')\n",
    "\n",
    "\n",
    "#merge first and last action\n",
    "\n",
    "duration = first.merge(last, on=['userid', 'version', 'isExpert' ], how='left')\n",
    "\n",
    "\n",
    "\n",
    "#if actionname = 'Submit Top 10' is NaN, set to 2\n",
    "duration['actionname'] = duration['actionname'].fillna(1)\n",
    "\n",
    "\n",
    "#calculate duration\n",
    "\n",
    "duration['duration'] = duration['tstamp_y'] - duration['tstamp_x']\n",
    "\n",
    "copy = duration.copy()\n",
    "\n",
    "#devide duration by number of times user clicked on 'Submit Top 10'\n",
    "\n",
    "duration = duration[duration['duration'] <= pd.Timedelta(minutes=20)]\n",
    "\n",
    "duration = duration[duration['userid'] != '3be8366dd8f36'] #zero for some reason, brings down the whole average\n",
    "\n",
    "\n",
    "\n",
    "duration['duration'] = duration['duration'].map(lambda x: x.total_seconds())\n",
    "\n",
    "\n",
    "duration['duration'] = duration['duration'] / duration['actionname']\n",
    "\n",
    "#calculate average duration per user type\n",
    "\n",
    "duration = duration.groupby(['version','isExpert'])['duration'].mean().reset_index()\n",
    "\n",
    "#plot\n",
    "\n",
    "\n",
    "chart = alt.Chart(duration).mark_bar().encode(\n",
    "    x=alt.X('version:N', title='User type', axis=alt.Axis(labelAngle=-45), sort=['LC + EH', 'LC + ES', 'HC + EH', 'HC + ES']),\n",
    "    y=alt.Y('duration:Q', title='Average duration (seconds)'),\n",
    "    color='isExpert',\n",
    "    xOffset='isExpert'\n",
    ").properties(\n",
    "    title='Average session duration per version',\n",
    "    width=200\n",
    ")\n",
    "\n",
    "\n",
    "chart"
   ],
   "metadata": {
    "collapsed": false,
    "pycharm": {
     "name": "#%%\n"
    }
   }
  },
  {
   "cell_type": "code",
   "execution_count": null,
   "outputs": [],
   "source": [],
   "metadata": {
    "collapsed": false,
    "pycharm": {
     "name": "#%%\n"
    }
   }
  },
  {
   "cell_type": "code",
   "execution_count": 11,
   "outputs": [
    {
     "data": {
      "text/plain": "            userid  version    isExpert                tstamp_x  actionname   \n0    019132e398e18  LC + EH      Expert 2023-05-14 09:00:12.369         1.0  \\\n1    04a419bf11412  LC + ES  Non-Expert 2023-05-12 06:52:13.035         4.0   \n2   0c215e7cea7f38  LC + EH  Non-Expert 2023-05-23 17:47:15.095         1.0   \n3   16f7882aa59908  HC + ES  Non-Expert 2023-05-21 19:04:06.860         2.0   \n4   29152f1697ff68  HC + EH  Non-Expert 2023-05-24 09:09:01.397         1.0   \n5    2bf0b2caeede3  LC + EH      Expert 2023-05-21 12:26:11.301         2.0   \n6    32993a5b624ce  HC + ES  Non-Expert 2023-05-25 14:46:57.118         1.0   \n7    3be8366dd8f36  LC + EH  Non-Expert 2023-05-23 18:00:00.000         1.0   \n8    41910f46383ae  LC + ES  Non-Expert 2023-05-23 21:57:59.558         1.0   \n9    49eaabd33a20a  HC + ES      Expert 2023-05-17 08:31:43.909         1.0   \n10   4a83d2a70ed38  LC + EH      Expert 2023-05-22 09:21:33.813         2.0   \n11   4b4fd1df20701  HC + EH  Non-Expert 2023-05-15 08:59:29.823         1.0   \n12  4c551d03385cc8  HC + EH  Non-Expert 2023-05-21 14:49:50.532         1.0   \n13   5659c176d639c  HC + EH  Non-Expert 2023-05-23 16:05:26.428         1.0   \n14  5e09a989f3a0e8  LC + ES      Expert 2023-05-16 22:29:06.932         1.0   \n15   63b60facbb9fa  HC + ES  Non-Expert 2023-05-14 17:54:02.004         1.0   \n16   66d235530e05e  LC + ES      Expert 2023-05-20 18:31:56.723         1.0   \n17   71758b148f361  LC + EH  Non-Expert 2023-05-19 08:58:37.708         2.0   \n18   79262589165e6  HC + ES      Expert 2023-05-16 19:08:47.563         1.0   \n19   8000b24933e6f  HC + ES  Non-Expert 2023-05-16 09:39:19.997         1.0   \n20   85270c2be10b7  LC + ES  Non-Expert 2023-05-25 12:54:01.340         1.0   \n21    8791745ecfd4  HC + ES  Non-Expert 2023-05-23 15:34:50.767         1.0   \n22   8a832fac71fbc  HC + EH      Expert 2023-05-15 13:52:14.840         1.0   \n23   92541790deac9  HC + EH      Expert 2023-05-22 11:00:12.514         2.0   \n24   92541790deac9  HC + EH  Non-Expert 2023-05-22 11:00:12.514         2.0   \n25   99e22b182c01d  HC + EH      Expert 2023-05-19 10:17:40.996         1.0   \n26  9bb8d10b5efac8  LC + ES  Non-Expert 2023-05-23 16:54:31.527         1.0   \n27   a6be8c17c479a  LC + EH  Non-Expert 2023-05-26 12:14:54.727         1.0   \n28  ac47e32ad27e18  HC + ES  Non-Expert 2023-05-23 20:02:14.392         1.0   \n29   b267c008f5ece  LC + ES  Non-Expert 2023-05-22 07:43:12.850         1.0   \n30    df3aaac2c129  LC + EH  Non-Expert 2023-05-12 06:26:45.325         3.0   \n31   e22b6a3fc3f23  HC + ES      Expert 2023-05-17 18:20:22.568         1.0   \n32   e6c309da2bc4f  LC + EH  Non-Expert 2023-05-13 12:53:56.730         1.0   \n33   e94cf9edf908f  HC + EH  Non-Expert 2023-05-15 09:17:09.715         1.0   \n34    eb5cdf7ca9b5  HC + ES  Non-Expert 2023-05-25 11:49:57.676         1.0   \n35   f00db05d7655b  LC + ES  Non-Expert 2023-05-11 20:31:24.695         3.0   \n36   f04e4b0696f26  LC + EH  Non-Expert 2023-05-25 07:57:53.770         1.0   \n\n                  tstamp_y               duration  \n0                      NaT                    NaT  \n1  2023-05-12 06:58:30.357 0 days 00:06:17.322000  \n2  2023-05-23 17:51:12.767 0 days 00:03:57.672000  \n3  2023-05-21 19:11:16.610 0 days 00:07:09.750000  \n4                      NaT                    NaT  \n5  2023-05-21 12:36:07.075 0 days 00:09:55.774000  \n6  2023-05-25 14:50:45.610 0 days 00:03:48.492000  \n7  2023-05-23 18:00:00.000        0 days 00:00:00  \n8  2023-05-23 21:59:55.097 0 days 00:01:55.539000  \n9  2023-05-17 08:37:37.626 0 days 00:05:53.717000  \n10 2023-05-22 10:13:34.423 0 days 00:52:00.610000  \n11 2023-05-15 09:00:50.090 0 days 00:01:20.267000  \n12 2023-05-21 14:53:56.399 0 days 00:04:05.867000  \n13 2023-05-23 16:07:17.957 0 days 00:01:51.529000  \n14 2023-05-16 22:39:37.742 0 days 00:10:30.810000  \n15                     NaT                    NaT  \n16 2023-05-20 18:36:00.813 0 days 00:04:04.090000  \n17 2023-05-19 09:09:54.303 0 days 00:11:16.595000  \n18                     NaT                    NaT  \n19 2023-05-16 09:43:32.313 0 days 00:04:12.316000  \n20 2023-05-25 12:58:56.952 0 days 00:04:55.612000  \n21 2023-05-23 15:37:31.373 0 days 00:02:40.606000  \n22 2023-05-15 13:56:25.617 0 days 00:04:10.777000  \n23 2023-05-22 11:04:58.495 0 days 00:04:45.981000  \n24 2023-05-22 11:04:58.495 0 days 00:04:45.981000  \n25 2023-05-19 10:22:13.571 0 days 00:04:32.575000  \n26                     NaT                    NaT  \n27                     NaT                    NaT  \n28 2023-05-23 20:10:30.850 0 days 00:08:16.458000  \n29 2023-05-22 07:51:01.963 0 days 00:07:49.113000  \n30 2023-05-14 17:33:53.213 2 days 11:07:07.888000  \n31                     NaT                    NaT  \n32 2023-05-13 13:25:43.139 0 days 00:31:46.409000  \n33 2023-05-15 09:20:41.305 0 days 00:03:31.590000  \n34 2023-05-25 11:53:41.758 0 days 00:03:44.082000  \n35 2023-05-11 20:46:35.829 0 days 00:15:11.134000  \n36 2023-05-25 08:00:06.143 0 days 00:02:12.373000  ",
      "text/html": "<div>\n<style scoped>\n    .dataframe tbody tr th:only-of-type {\n        vertical-align: middle;\n    }\n\n    .dataframe tbody tr th {\n        vertical-align: top;\n    }\n\n    .dataframe thead th {\n        text-align: right;\n    }\n</style>\n<table border=\"1\" class=\"dataframe\">\n  <thead>\n    <tr style=\"text-align: right;\">\n      <th></th>\n      <th>userid</th>\n      <th>version</th>\n      <th>isExpert</th>\n      <th>tstamp_x</th>\n      <th>actionname</th>\n      <th>tstamp_y</th>\n      <th>duration</th>\n    </tr>\n  </thead>\n  <tbody>\n    <tr>\n      <th>0</th>\n      <td>019132e398e18</td>\n      <td>LC + EH</td>\n      <td>Expert</td>\n      <td>2023-05-14 09:00:12.369</td>\n      <td>1.0</td>\n      <td>NaT</td>\n      <td>NaT</td>\n    </tr>\n    <tr>\n      <th>1</th>\n      <td>04a419bf11412</td>\n      <td>LC + ES</td>\n      <td>Non-Expert</td>\n      <td>2023-05-12 06:52:13.035</td>\n      <td>4.0</td>\n      <td>2023-05-12 06:58:30.357</td>\n      <td>0 days 00:06:17.322000</td>\n    </tr>\n    <tr>\n      <th>2</th>\n      <td>0c215e7cea7f38</td>\n      <td>LC + EH</td>\n      <td>Non-Expert</td>\n      <td>2023-05-23 17:47:15.095</td>\n      <td>1.0</td>\n      <td>2023-05-23 17:51:12.767</td>\n      <td>0 days 00:03:57.672000</td>\n    </tr>\n    <tr>\n      <th>3</th>\n      <td>16f7882aa59908</td>\n      <td>HC + ES</td>\n      <td>Non-Expert</td>\n      <td>2023-05-21 19:04:06.860</td>\n      <td>2.0</td>\n      <td>2023-05-21 19:11:16.610</td>\n      <td>0 days 00:07:09.750000</td>\n    </tr>\n    <tr>\n      <th>4</th>\n      <td>29152f1697ff68</td>\n      <td>HC + EH</td>\n      <td>Non-Expert</td>\n      <td>2023-05-24 09:09:01.397</td>\n      <td>1.0</td>\n      <td>NaT</td>\n      <td>NaT</td>\n    </tr>\n    <tr>\n      <th>5</th>\n      <td>2bf0b2caeede3</td>\n      <td>LC + EH</td>\n      <td>Expert</td>\n      <td>2023-05-21 12:26:11.301</td>\n      <td>2.0</td>\n      <td>2023-05-21 12:36:07.075</td>\n      <td>0 days 00:09:55.774000</td>\n    </tr>\n    <tr>\n      <th>6</th>\n      <td>32993a5b624ce</td>\n      <td>HC + ES</td>\n      <td>Non-Expert</td>\n      <td>2023-05-25 14:46:57.118</td>\n      <td>1.0</td>\n      <td>2023-05-25 14:50:45.610</td>\n      <td>0 days 00:03:48.492000</td>\n    </tr>\n    <tr>\n      <th>7</th>\n      <td>3be8366dd8f36</td>\n      <td>LC + EH</td>\n      <td>Non-Expert</td>\n      <td>2023-05-23 18:00:00.000</td>\n      <td>1.0</td>\n      <td>2023-05-23 18:00:00.000</td>\n      <td>0 days 00:00:00</td>\n    </tr>\n    <tr>\n      <th>8</th>\n      <td>41910f46383ae</td>\n      <td>LC + ES</td>\n      <td>Non-Expert</td>\n      <td>2023-05-23 21:57:59.558</td>\n      <td>1.0</td>\n      <td>2023-05-23 21:59:55.097</td>\n      <td>0 days 00:01:55.539000</td>\n    </tr>\n    <tr>\n      <th>9</th>\n      <td>49eaabd33a20a</td>\n      <td>HC + ES</td>\n      <td>Expert</td>\n      <td>2023-05-17 08:31:43.909</td>\n      <td>1.0</td>\n      <td>2023-05-17 08:37:37.626</td>\n      <td>0 days 00:05:53.717000</td>\n    </tr>\n    <tr>\n      <th>10</th>\n      <td>4a83d2a70ed38</td>\n      <td>LC + EH</td>\n      <td>Expert</td>\n      <td>2023-05-22 09:21:33.813</td>\n      <td>2.0</td>\n      <td>2023-05-22 10:13:34.423</td>\n      <td>0 days 00:52:00.610000</td>\n    </tr>\n    <tr>\n      <th>11</th>\n      <td>4b4fd1df20701</td>\n      <td>HC + EH</td>\n      <td>Non-Expert</td>\n      <td>2023-05-15 08:59:29.823</td>\n      <td>1.0</td>\n      <td>2023-05-15 09:00:50.090</td>\n      <td>0 days 00:01:20.267000</td>\n    </tr>\n    <tr>\n      <th>12</th>\n      <td>4c551d03385cc8</td>\n      <td>HC + EH</td>\n      <td>Non-Expert</td>\n      <td>2023-05-21 14:49:50.532</td>\n      <td>1.0</td>\n      <td>2023-05-21 14:53:56.399</td>\n      <td>0 days 00:04:05.867000</td>\n    </tr>\n    <tr>\n      <th>13</th>\n      <td>5659c176d639c</td>\n      <td>HC + EH</td>\n      <td>Non-Expert</td>\n      <td>2023-05-23 16:05:26.428</td>\n      <td>1.0</td>\n      <td>2023-05-23 16:07:17.957</td>\n      <td>0 days 00:01:51.529000</td>\n    </tr>\n    <tr>\n      <th>14</th>\n      <td>5e09a989f3a0e8</td>\n      <td>LC + ES</td>\n      <td>Expert</td>\n      <td>2023-05-16 22:29:06.932</td>\n      <td>1.0</td>\n      <td>2023-05-16 22:39:37.742</td>\n      <td>0 days 00:10:30.810000</td>\n    </tr>\n    <tr>\n      <th>15</th>\n      <td>63b60facbb9fa</td>\n      <td>HC + ES</td>\n      <td>Non-Expert</td>\n      <td>2023-05-14 17:54:02.004</td>\n      <td>1.0</td>\n      <td>NaT</td>\n      <td>NaT</td>\n    </tr>\n    <tr>\n      <th>16</th>\n      <td>66d235530e05e</td>\n      <td>LC + ES</td>\n      <td>Expert</td>\n      <td>2023-05-20 18:31:56.723</td>\n      <td>1.0</td>\n      <td>2023-05-20 18:36:00.813</td>\n      <td>0 days 00:04:04.090000</td>\n    </tr>\n    <tr>\n      <th>17</th>\n      <td>71758b148f361</td>\n      <td>LC + EH</td>\n      <td>Non-Expert</td>\n      <td>2023-05-19 08:58:37.708</td>\n      <td>2.0</td>\n      <td>2023-05-19 09:09:54.303</td>\n      <td>0 days 00:11:16.595000</td>\n    </tr>\n    <tr>\n      <th>18</th>\n      <td>79262589165e6</td>\n      <td>HC + ES</td>\n      <td>Expert</td>\n      <td>2023-05-16 19:08:47.563</td>\n      <td>1.0</td>\n      <td>NaT</td>\n      <td>NaT</td>\n    </tr>\n    <tr>\n      <th>19</th>\n      <td>8000b24933e6f</td>\n      <td>HC + ES</td>\n      <td>Non-Expert</td>\n      <td>2023-05-16 09:39:19.997</td>\n      <td>1.0</td>\n      <td>2023-05-16 09:43:32.313</td>\n      <td>0 days 00:04:12.316000</td>\n    </tr>\n    <tr>\n      <th>20</th>\n      <td>85270c2be10b7</td>\n      <td>LC + ES</td>\n      <td>Non-Expert</td>\n      <td>2023-05-25 12:54:01.340</td>\n      <td>1.0</td>\n      <td>2023-05-25 12:58:56.952</td>\n      <td>0 days 00:04:55.612000</td>\n    </tr>\n    <tr>\n      <th>21</th>\n      <td>8791745ecfd4</td>\n      <td>HC + ES</td>\n      <td>Non-Expert</td>\n      <td>2023-05-23 15:34:50.767</td>\n      <td>1.0</td>\n      <td>2023-05-23 15:37:31.373</td>\n      <td>0 days 00:02:40.606000</td>\n    </tr>\n    <tr>\n      <th>22</th>\n      <td>8a832fac71fbc</td>\n      <td>HC + EH</td>\n      <td>Expert</td>\n      <td>2023-05-15 13:52:14.840</td>\n      <td>1.0</td>\n      <td>2023-05-15 13:56:25.617</td>\n      <td>0 days 00:04:10.777000</td>\n    </tr>\n    <tr>\n      <th>23</th>\n      <td>92541790deac9</td>\n      <td>HC + EH</td>\n      <td>Expert</td>\n      <td>2023-05-22 11:00:12.514</td>\n      <td>2.0</td>\n      <td>2023-05-22 11:04:58.495</td>\n      <td>0 days 00:04:45.981000</td>\n    </tr>\n    <tr>\n      <th>24</th>\n      <td>92541790deac9</td>\n      <td>HC + EH</td>\n      <td>Non-Expert</td>\n      <td>2023-05-22 11:00:12.514</td>\n      <td>2.0</td>\n      <td>2023-05-22 11:04:58.495</td>\n      <td>0 days 00:04:45.981000</td>\n    </tr>\n    <tr>\n      <th>25</th>\n      <td>99e22b182c01d</td>\n      <td>HC + EH</td>\n      <td>Expert</td>\n      <td>2023-05-19 10:17:40.996</td>\n      <td>1.0</td>\n      <td>2023-05-19 10:22:13.571</td>\n      <td>0 days 00:04:32.575000</td>\n    </tr>\n    <tr>\n      <th>26</th>\n      <td>9bb8d10b5efac8</td>\n      <td>LC + ES</td>\n      <td>Non-Expert</td>\n      <td>2023-05-23 16:54:31.527</td>\n      <td>1.0</td>\n      <td>NaT</td>\n      <td>NaT</td>\n    </tr>\n    <tr>\n      <th>27</th>\n      <td>a6be8c17c479a</td>\n      <td>LC + EH</td>\n      <td>Non-Expert</td>\n      <td>2023-05-26 12:14:54.727</td>\n      <td>1.0</td>\n      <td>NaT</td>\n      <td>NaT</td>\n    </tr>\n    <tr>\n      <th>28</th>\n      <td>ac47e32ad27e18</td>\n      <td>HC + ES</td>\n      <td>Non-Expert</td>\n      <td>2023-05-23 20:02:14.392</td>\n      <td>1.0</td>\n      <td>2023-05-23 20:10:30.850</td>\n      <td>0 days 00:08:16.458000</td>\n    </tr>\n    <tr>\n      <th>29</th>\n      <td>b267c008f5ece</td>\n      <td>LC + ES</td>\n      <td>Non-Expert</td>\n      <td>2023-05-22 07:43:12.850</td>\n      <td>1.0</td>\n      <td>2023-05-22 07:51:01.963</td>\n      <td>0 days 00:07:49.113000</td>\n    </tr>\n    <tr>\n      <th>30</th>\n      <td>df3aaac2c129</td>\n      <td>LC + EH</td>\n      <td>Non-Expert</td>\n      <td>2023-05-12 06:26:45.325</td>\n      <td>3.0</td>\n      <td>2023-05-14 17:33:53.213</td>\n      <td>2 days 11:07:07.888000</td>\n    </tr>\n    <tr>\n      <th>31</th>\n      <td>e22b6a3fc3f23</td>\n      <td>HC + ES</td>\n      <td>Expert</td>\n      <td>2023-05-17 18:20:22.568</td>\n      <td>1.0</td>\n      <td>NaT</td>\n      <td>NaT</td>\n    </tr>\n    <tr>\n      <th>32</th>\n      <td>e6c309da2bc4f</td>\n      <td>LC + EH</td>\n      <td>Non-Expert</td>\n      <td>2023-05-13 12:53:56.730</td>\n      <td>1.0</td>\n      <td>2023-05-13 13:25:43.139</td>\n      <td>0 days 00:31:46.409000</td>\n    </tr>\n    <tr>\n      <th>33</th>\n      <td>e94cf9edf908f</td>\n      <td>HC + EH</td>\n      <td>Non-Expert</td>\n      <td>2023-05-15 09:17:09.715</td>\n      <td>1.0</td>\n      <td>2023-05-15 09:20:41.305</td>\n      <td>0 days 00:03:31.590000</td>\n    </tr>\n    <tr>\n      <th>34</th>\n      <td>eb5cdf7ca9b5</td>\n      <td>HC + ES</td>\n      <td>Non-Expert</td>\n      <td>2023-05-25 11:49:57.676</td>\n      <td>1.0</td>\n      <td>2023-05-25 11:53:41.758</td>\n      <td>0 days 00:03:44.082000</td>\n    </tr>\n    <tr>\n      <th>35</th>\n      <td>f00db05d7655b</td>\n      <td>LC + ES</td>\n      <td>Non-Expert</td>\n      <td>2023-05-11 20:31:24.695</td>\n      <td>3.0</td>\n      <td>2023-05-11 20:46:35.829</td>\n      <td>0 days 00:15:11.134000</td>\n    </tr>\n    <tr>\n      <th>36</th>\n      <td>f04e4b0696f26</td>\n      <td>LC + EH</td>\n      <td>Non-Expert</td>\n      <td>2023-05-25 07:57:53.770</td>\n      <td>1.0</td>\n      <td>2023-05-25 08:00:06.143</td>\n      <td>0 days 00:02:12.373000</td>\n    </tr>\n  </tbody>\n</table>\n</div>"
     },
     "execution_count": 11,
     "metadata": {},
     "output_type": "execute_result"
    }
   ],
   "source": [
    "copy"
   ],
   "metadata": {
    "collapsed": false,
    "pycharm": {
     "name": "#%%\n"
    }
   }
  },
  {
   "cell_type": "code",
   "execution_count": 166,
   "outputs": [
    {
     "data": {
      "text/html": "\n<style>\n  #altair-viz-19846263bb6c4b289542694c3a4804f6.vega-embed {\n    width: 100%;\n    display: flex;\n  }\n\n  #altair-viz-19846263bb6c4b289542694c3a4804f6.vega-embed details,\n  #altair-viz-19846263bb6c4b289542694c3a4804f6.vega-embed details summary {\n    position: relative;\n  }\n</style>\n<div id=\"altair-viz-19846263bb6c4b289542694c3a4804f6\"></div>\n<script type=\"text/javascript\">\n  var VEGA_DEBUG = (typeof VEGA_DEBUG == \"undefined\") ? {} : VEGA_DEBUG;\n  (function(spec, embedOpt){\n    let outputDiv = document.currentScript.previousElementSibling;\n    if (outputDiv.id !== \"altair-viz-19846263bb6c4b289542694c3a4804f6\") {\n      outputDiv = document.getElementById(\"altair-viz-19846263bb6c4b289542694c3a4804f6\");\n    }\n    const paths = {\n      \"vega\": \"https://cdn.jsdelivr.net/npm/vega@5?noext\",\n      \"vega-lib\": \"https://cdn.jsdelivr.net/npm/vega-lib?noext\",\n      \"vega-lite\": \"https://cdn.jsdelivr.net/npm/vega-lite@5.8.0?noext\",\n      \"vega-embed\": \"https://cdn.jsdelivr.net/npm/vega-embed@6?noext\",\n    };\n\n    function maybeLoadScript(lib, version) {\n      var key = `${lib.replace(\"-\", \"\")}_version`;\n      return (VEGA_DEBUG[key] == version) ?\n        Promise.resolve(paths[lib]) :\n        new Promise(function(resolve, reject) {\n          var s = document.createElement('script');\n          document.getElementsByTagName(\"head\")[0].appendChild(s);\n          s.async = true;\n          s.onload = () => {\n            VEGA_DEBUG[key] = version;\n            return resolve(paths[lib]);\n          };\n          s.onerror = () => reject(`Error loading script: ${paths[lib]}`);\n          s.src = paths[lib];\n        });\n    }\n\n    function showError(err) {\n      outputDiv.innerHTML = `<div class=\"error\" style=\"color:red;\">${err}</div>`;\n      throw err;\n    }\n\n    function displayChart(vegaEmbed) {\n      vegaEmbed(outputDiv, spec, embedOpt)\n        .catch(err => showError(`Javascript Error: ${err.message}<br>This usually means there's a typo in your chart specification. See the javascript console for the full traceback.`));\n    }\n\n    if(typeof define === \"function\" && define.amd) {\n      requirejs.config({paths});\n      require([\"vega-embed\"], displayChart, err => showError(`Error loading script: ${err.message}`));\n    } else {\n      maybeLoadScript(\"vega\", \"5\")\n        .then(() => maybeLoadScript(\"vega-lite\", \"5.8.0\"))\n        .then(() => maybeLoadScript(\"vega-embed\", \"6\"))\n        .catch(showError)\n        .then(() => displayChart(vegaEmbed));\n    }\n  })({\"config\": {\"view\": {\"continuousWidth\": 300, \"continuousHeight\": 300}}, \"data\": {\"name\": \"data-21ad511c3ce8b5c71c2a906e1ca4c43c\"}, \"mark\": {\"type\": \"bar\"}, \"encoding\": {\"color\": {\"field\": \"isExpert\", \"type\": \"nominal\"}, \"x\": {\"axis\": {\"labelAngle\": -45}, \"field\": \"version\", \"sort\": [\"LC + EH\", \"LC + ES\", \"HC + EH\", \"HC + ES\"], \"title\": \"Version\", \"type\": \"nominal\"}, \"xOffset\": {\"field\": \"isExpert\", \"type\": \"nominal\"}, \"y\": {\"field\": \"clicks\", \"title\": \"Average number of clicks\", \"type\": \"quantitative\"}}, \"title\": \"Average number of clicks on the results page per version\", \"width\": 200, \"$schema\": \"https://vega.github.io/schema/vega-lite/v5.8.0.json\", \"datasets\": {\"data-21ad511c3ce8b5c71c2a906e1ca4c43c\": [{\"version\": \"Explanations Hidden\", \"isExpert\": \"Expert\", \"clicks\": 43.333333333333336}, {\"version\": \"Explanations Hidden\", \"isExpert\": \"Non-Expert\", \"clicks\": 30.807692307692307}, {\"version\": \"Explanations Shown\", \"isExpert\": \"Expert\", \"clicks\": 75.2}, {\"version\": \"Explanations Shown\", \"isExpert\": \"Non-Expert\", \"clicks\": 70.22222222222221}]}}, {\"mode\": \"vega-lite\"});\n</script>",
      "text/plain": "alt.Chart(...)"
     },
     "execution_count": 166,
     "metadata": {},
     "output_type": "execute_result"
    }
   ],
   "source": [
    "#get all clicks from results page\n",
    "clicks = df[df['page'] == 'ResultsPage']\n",
    "\n",
    "\n",
    "clicks = clicks.groupby(['userid', 'version', 'isExpert'])['actionname'].count().reset_index().rename(columns={'actionname': 'clicks'})\n",
    "\n",
    "#count times user clicked on 'Submit Top 10'\n",
    "\n",
    "count = df[df['actionname'] == 'Submit Top 10'].groupby(['userid', 'version'])['actionname'].count().reset_index()\n",
    "\n",
    "\n",
    "clicks = clicks.merge(count, on=['userid', 'version'], how='left')\n",
    "\n",
    "clicks['actionname'] = clicks['actionname'].fillna(1)\n",
    "\n",
    "clicks = clicks.rename(columns={'actionname': 'times_submit'})\n",
    "\n",
    "clicks['clicks'] = clicks['clicks'] / clicks['times_submit']\n",
    "\n",
    "x = clicks.copy()\n",
    "\n",
    "\n",
    "#add LC-ES + HC-ES and LC-EH + HC-EH\n",
    "\n",
    "clicks.loc[clicks['version'] == 'LC + ES', 'version'] = 'Explanations Shown'\n",
    "clicks.loc[clicks['version'] == 'HC + ES', 'version'] = 'Explanations Shown'\n",
    "clicks.loc[clicks['version'] == 'LC + EH', 'version'] = 'Explanations Hidden'\n",
    "clicks.loc[clicks['version'] == 'HC + EH', 'version'] = 'Explanations Hidden'\n",
    "\n",
    "clicks = clicks.groupby(['version', 'isExpert'])['clicks'].mean().reset_index()\n",
    "\n",
    "chart = alt.Chart(clicks).mark_bar().encode(\n",
    "    x=alt.X('version:N', title='Version', axis=alt.Axis(labelAngle=-45), sort=['LC + EH', 'LC + ES', 'HC + EH', 'HC + ES']),\n",
    "    y=alt.Y('clicks:Q', title='Average number of clicks'),\n",
    "    color='isExpert',\n",
    "    xOffset='isExpert'\n",
    "\n",
    ").properties(\n",
    "    title='Average number of clicks on the results page per version',\n",
    "    width=200\n",
    ")\n",
    "\n",
    "chart.save('charts/total_clicks_results.png')\n",
    "chart"
   ],
   "metadata": {
    "collapsed": false,
    "pycharm": {
     "name": "#%%\n"
    }
   }
  },
  {
   "cell_type": "code",
   "execution_count": 167,
   "outputs": [
    {
     "data": {
      "text/html": "\n<style>\n  #altair-viz-593499daad1c476985f6f25a2888225b.vega-embed {\n    width: 100%;\n    display: flex;\n  }\n\n  #altair-viz-593499daad1c476985f6f25a2888225b.vega-embed details,\n  #altair-viz-593499daad1c476985f6f25a2888225b.vega-embed details summary {\n    position: relative;\n  }\n</style>\n<div id=\"altair-viz-593499daad1c476985f6f25a2888225b\"></div>\n<script type=\"text/javascript\">\n  var VEGA_DEBUG = (typeof VEGA_DEBUG == \"undefined\") ? {} : VEGA_DEBUG;\n  (function(spec, embedOpt){\n    let outputDiv = document.currentScript.previousElementSibling;\n    if (outputDiv.id !== \"altair-viz-593499daad1c476985f6f25a2888225b\") {\n      outputDiv = document.getElementById(\"altair-viz-593499daad1c476985f6f25a2888225b\");\n    }\n    const paths = {\n      \"vega\": \"https://cdn.jsdelivr.net/npm/vega@5?noext\",\n      \"vega-lib\": \"https://cdn.jsdelivr.net/npm/vega-lib?noext\",\n      \"vega-lite\": \"https://cdn.jsdelivr.net/npm/vega-lite@5.8.0?noext\",\n      \"vega-embed\": \"https://cdn.jsdelivr.net/npm/vega-embed@6?noext\",\n    };\n\n    function maybeLoadScript(lib, version) {\n      var key = `${lib.replace(\"-\", \"\")}_version`;\n      return (VEGA_DEBUG[key] == version) ?\n        Promise.resolve(paths[lib]) :\n        new Promise(function(resolve, reject) {\n          var s = document.createElement('script');\n          document.getElementsByTagName(\"head\")[0].appendChild(s);\n          s.async = true;\n          s.onload = () => {\n            VEGA_DEBUG[key] = version;\n            return resolve(paths[lib]);\n          };\n          s.onerror = () => reject(`Error loading script: ${paths[lib]}`);\n          s.src = paths[lib];\n        });\n    }\n\n    function showError(err) {\n      outputDiv.innerHTML = `<div class=\"error\" style=\"color:red;\">${err}</div>`;\n      throw err;\n    }\n\n    function displayChart(vegaEmbed) {\n      vegaEmbed(outputDiv, spec, embedOpt)\n        .catch(err => showError(`Javascript Error: ${err.message}<br>This usually means there's a typo in your chart specification. See the javascript console for the full traceback.`));\n    }\n\n    if(typeof define === \"function\" && define.amd) {\n      requirejs.config({paths});\n      require([\"vega-embed\"], displayChart, err => showError(`Error loading script: ${err.message}`));\n    } else {\n      maybeLoadScript(\"vega\", \"5\")\n        .then(() => maybeLoadScript(\"vega-lite\", \"5.8.0\"))\n        .then(() => maybeLoadScript(\"vega-embed\", \"6\"))\n        .catch(showError)\n        .then(() => displayChart(vegaEmbed));\n    }\n  })({\"config\": {\"view\": {\"continuousWidth\": 300, \"continuousHeight\": 300}}, \"data\": {\"name\": \"data-29e92a119817714d5c3385afc284fe81\"}, \"mark\": {\"type\": \"bar\"}, \"encoding\": {\"color\": {\"field\": \"isExpert\", \"type\": \"nominal\"}, \"x\": {\"axis\": {\"labelAngle\": -45}, \"field\": \"actionname\", \"title\": \"Action\", \"type\": \"nominal\"}, \"xOffset\": {\"field\": \"isExpert\", \"type\": \"nominal\"}, \"y\": {\"field\": \"click_count\", \"title\": \"Average number of clicks\", \"type\": \"quantitative\"}}, \"title\": \"Average clickcount per action on the results page\", \"width\": 300, \"$schema\": \"https://vega.github.io/schema/vega-lite/v5.8.0.json\", \"datasets\": {\"data-29e92a119817714d5c3385afc284fe81\": [{\"actionname\": \"CloseDialog\", \"version\": \"HC + EH\", \"isExpert\": \"Expert\", \"click_count\": 25.0}, {\"actionname\": \"CloseDialog\", \"version\": \"HC + EH\", \"isExpert\": \"Non-Expert\", \"click_count\": 14.833333333333334}, {\"actionname\": \"CloseDialog\", \"version\": \"HC + ES\", \"isExpert\": \"Expert\", \"click_count\": 8.666666666666666}, {\"actionname\": \"CloseDialog\", \"version\": \"HC + ES\", \"isExpert\": \"Non-Expert\", \"click_count\": 21.714285714285715}, {\"actionname\": \"CloseDialog\", \"version\": \"LC + EH\", \"isExpert\": \"Expert\", \"click_count\": 17.5}, {\"actionname\": \"CloseDialog\", \"version\": \"LC + EH\", \"isExpert\": \"Non-Expert\", \"click_count\": 8.571428571428571}, {\"actionname\": \"CloseDialog\", \"version\": \"LC + ES\", \"isExpert\": \"Expert\", \"click_count\": 36.5}, {\"actionname\": \"CloseDialog\", \"version\": \"LC + ES\", \"isExpert\": \"Non-Expert\", \"click_count\": 30.2}, {\"actionname\": \"New search\", \"version\": \"HC + EH\", \"isExpert\": \"Expert\", \"click_count\": 1.0}, {\"actionname\": \"New search\", \"version\": \"HC + EH\", \"isExpert\": \"Non-Expert\", \"click_count\": 1.0}, {\"actionname\": \"New search\", \"version\": \"HC + ES\", \"isExpert\": \"Expert\", \"click_count\": 1.5}, {\"actionname\": \"New search\", \"version\": \"HC + ES\", \"isExpert\": \"Non-Expert\", \"click_count\": 1.0}, {\"actionname\": \"New search\", \"version\": \"LC + EH\", \"isExpert\": \"Expert\", \"click_count\": 2.0}, {\"actionname\": \"New search\", \"version\": \"LC + EH\", \"isExpert\": \"Non-Expert\", \"click_count\": 1.6666666666666667}, {\"actionname\": \"New search\", \"version\": \"LC + ES\", \"isExpert\": \"Expert\", \"click_count\": 1.0}, {\"actionname\": \"New search\", \"version\": \"LC + ES\", \"isExpert\": \"Non-Expert\", \"click_count\": 4.5}, {\"actionname\": \"Submit Top 10\", \"version\": \"HC + EH\", \"isExpert\": \"Expert\", \"click_count\": 1.0}, {\"actionname\": \"Submit Top 10\", \"version\": \"HC + EH\", \"isExpert\": \"Non-Expert\", \"click_count\": 1.2}, {\"actionname\": \"Submit Top 10\", \"version\": \"HC + ES\", \"isExpert\": \"Expert\", \"click_count\": 1.0}, {\"actionname\": \"Submit Top 10\", \"version\": \"HC + ES\", \"isExpert\": \"Non-Expert\", \"click_count\": 1.1666666666666667}, {\"actionname\": \"Submit Top 10\", \"version\": \"LC + EH\", \"isExpert\": \"Expert\", \"click_count\": 2.0}, {\"actionname\": \"Submit Top 10\", \"version\": \"LC + EH\", \"isExpert\": \"Non-Expert\", \"click_count\": 1.5}, {\"actionname\": \"Submit Top 10\", \"version\": \"LC + ES\", \"isExpert\": \"Expert\", \"click_count\": 1.0}, {\"actionname\": \"Submit Top 10\", \"version\": \"LC + ES\", \"isExpert\": \"Non-Expert\", \"click_count\": 2.25}, {\"actionname\": \"To questionnaire\", \"version\": \"LC + ES\", \"isExpert\": \"Non-Expert\", \"click_count\": 1.0}, {\"actionname\": \"addToTop10\", \"version\": \"HC + EH\", \"isExpert\": \"Expert\", \"click_count\": 11.333333333333334}, {\"actionname\": \"addToTop10\", \"version\": \"HC + EH\", \"isExpert\": \"Non-Expert\", \"click_count\": 11.666666666666666}, {\"actionname\": \"addToTop10\", \"version\": \"HC + ES\", \"isExpert\": \"Expert\", \"click_count\": 8.333333333333334}, {\"actionname\": \"addToTop10\", \"version\": \"HC + ES\", \"isExpert\": \"Non-Expert\", \"click_count\": 9.571428571428571}, {\"actionname\": \"addToTop10\", \"version\": \"LC + EH\", \"isExpert\": \"Expert\", \"click_count\": 16.0}, {\"actionname\": \"addToTop10\", \"version\": \"LC + EH\", \"isExpert\": \"Non-Expert\", \"click_count\": 12.142857142857142}, {\"actionname\": \"addToTop10\", \"version\": \"LC + ES\", \"isExpert\": \"Expert\", \"click_count\": 9.0}, {\"actionname\": \"addToTop10\", \"version\": \"LC + ES\", \"isExpert\": \"Non-Expert\", \"click_count\": 14.0}, {\"actionname\": \"enlargeAnalysisImage\", \"version\": \"HC + EH\", \"isExpert\": \"Non-Expert\", \"click_count\": 1.0}, {\"actionname\": \"enlargeAnalysisImage\", \"version\": \"HC + ES\", \"isExpert\": \"Expert\", \"click_count\": 1.0}, {\"actionname\": \"enlargeAnalysisImage\", \"version\": \"HC + ES\", \"isExpert\": \"Non-Expert\", \"click_count\": 1.0}, {\"actionname\": \"enlargeAnalysisImage\", \"version\": \"LC + ES\", \"isExpert\": \"Expert\", \"click_count\": 1.0}, {\"actionname\": \"enlargeAnalysisImage\", \"version\": \"LC + ES\", \"isExpert\": \"Non-Expert\", \"click_count\": 1.5}, {\"actionname\": \"openDialog\", \"version\": \"HC + EH\", \"isExpert\": \"Expert\", \"click_count\": 25.333333333333332}, {\"actionname\": \"openDialog\", \"version\": \"HC + EH\", \"isExpert\": \"Non-Expert\", \"click_count\": 14.833333333333334}, {\"actionname\": \"openDialog\", \"version\": \"HC + ES\", \"isExpert\": \"Expert\", \"click_count\": 9.0}, {\"actionname\": \"openDialog\", \"version\": \"HC + ES\", \"isExpert\": \"Non-Expert\", \"click_count\": 22.285714285714285}, {\"actionname\": \"openDialog\", \"version\": \"LC + EH\", \"isExpert\": \"Expert\", \"click_count\": 16.5}, {\"actionname\": \"openDialog\", \"version\": \"LC + EH\", \"isExpert\": \"Non-Expert\", \"click_count\": 8.714285714285714}, {\"actionname\": \"openDialog\", \"version\": \"LC + ES\", \"isExpert\": \"Expert\", \"click_count\": 36.0}, {\"actionname\": \"openDialog\", \"version\": \"LC + ES\", \"isExpert\": \"Non-Expert\", \"click_count\": 30.8}, {\"actionname\": \"resetTopX\", \"version\": \"HC + EH\", \"isExpert\": \"Non-Expert\", \"click_count\": 1.6666666666666667}, {\"actionname\": \"resetTopX\", \"version\": \"HC + ES\", \"isExpert\": \"Expert\", \"click_count\": 3.0}, {\"actionname\": \"resetTopX\", \"version\": \"HC + ES\", \"isExpert\": \"Non-Expert\", \"click_count\": 1.6666666666666667}, {\"actionname\": \"resetTopX\", \"version\": \"LC + EH\", \"isExpert\": \"Expert\", \"click_count\": 2.0}, {\"actionname\": \"resetTopX\", \"version\": \"LC + EH\", \"isExpert\": \"Non-Expert\", \"click_count\": 1.6666666666666667}, {\"actionname\": \"resetTopX\", \"version\": \"LC + ES\", \"isExpert\": \"Non-Expert\", \"click_count\": 1.5}, {\"actionname\": \"switchToDetails\", \"version\": \"HC + ES\", \"isExpert\": \"Expert\", \"click_count\": 2.6666666666666665}, {\"actionname\": \"switchToDetails\", \"version\": \"HC + ES\", \"isExpert\": \"Non-Expert\", \"click_count\": 16.571428571428573}, {\"actionname\": \"switchToDetails\", \"version\": \"LC + ES\", \"isExpert\": \"Expert\", \"click_count\": 35.5}, {\"actionname\": \"switchToDetails\", \"version\": \"LC + ES\", \"isExpert\": \"Non-Expert\", \"click_count\": 17.5}, {\"actionname\": \"switchToNormal\", \"version\": \"HC + ES\", \"isExpert\": \"Non-Expert\", \"click_count\": 15.428571428571429}, {\"actionname\": \"switchToNormal\", \"version\": \"LC + ES\", \"isExpert\": \"Expert\", \"click_count\": 42.0}, {\"actionname\": \"switchToNormal\", \"version\": \"LC + ES\", \"isExpert\": \"Non-Expert\", \"click_count\": 12.0}]}}, {\"mode\": \"vega-lite\"});\n</script>",
      "text/plain": "alt.Chart(...)"
     },
     "execution_count": 167,
     "metadata": {},
     "output_type": "execute_result"
    }
   ],
   "source": [
    "#list all actions on results page\n",
    "actions = df[df['page'] == 'ResultsPage']\n",
    "\n",
    "actions = actions.groupby(['userid','actionname', 'version', 'isExpert'])['actionname'].count().reset_index(name='click_count')\n",
    "\n",
    "actions = actions.groupby(['actionname', 'version', 'isExpert'])['click_count'].mean().reset_index()\n",
    "\n",
    "#remove the following actions\n",
    "\n",
    "chart = alt.Chart(actions).mark_bar().encode(\n",
    "    x=alt.X('actionname:N', title='Action', axis=alt.Axis(labelAngle=-45)),\n",
    "    y=alt.Y('click_count:Q', title='Average number of clicks'),\n",
    "    color='isExpert:N',\n",
    "    xOffset='isExpert:N'\n",
    ").properties(\n",
    "    title='Average clickcount per action on the results page',\n",
    "    width=300\n",
    ")\n",
    "\n",
    "chart.save('charts/average_clickcount_results.png')\n",
    "chart"
   ],
   "metadata": {
    "collapsed": false,
    "pycharm": {
     "name": "#%%\n"
    }
   }
  },
  {
   "cell_type": "code",
   "execution_count": 150,
   "outputs": [
    {
     "data": {
      "text/plain": "                  action  version    isExpert  click_count\n0            CloseDialog  HC + EH      Expert    25.000000\n1            CloseDialog  HC + EH  Non-Expert    16.333333\n2            CloseDialog  HC + ES      Expert     8.666667\n3            CloseDialog  HC + ES  Non-Expert    21.714286\n4            CloseDialog  LC + EH      Expert    17.500000\n5            CloseDialog  LC + EH  Non-Expert     8.571429\n6            CloseDialog  LC + ES      Expert    36.500000\n7            CloseDialog  LC + ES  Non-Expert    27.666667\n8             New search  HC + EH      Expert     1.000000\n9             New search  HC + EH  Non-Expert     1.000000\n10            New search  HC + ES      Expert     1.500000\n11            New search  HC + ES  Non-Expert     1.000000\n12            New search  LC + EH      Expert     2.000000\n13            New search  LC + EH  Non-Expert     1.666667\n14            New search  LC + ES      Expert     1.000000\n15            New search  LC + ES  Non-Expert     4.500000\n16         Submit Top 10  HC + EH      Expert     1.000000\n17         Submit Top 10  HC + EH  Non-Expert     1.000000\n18         Submit Top 10  HC + ES      Expert     1.000000\n19         Submit Top 10  HC + ES  Non-Expert     1.166667\n20         Submit Top 10  LC + EH      Expert     2.000000\n21         Submit Top 10  LC + EH  Non-Expert     1.500000\n22         Submit Top 10  LC + ES      Expert     1.000000\n23         Submit Top 10  LC + ES  Non-Expert     2.000000\n24      To questionnaire  LC + ES  Non-Expert     1.000000\n25            addToTop10  HC + EH      Expert    11.333333\n26            addToTop10  HC + EH  Non-Expert    11.500000\n27            addToTop10  HC + ES      Expert     8.333333\n28            addToTop10  HC + ES  Non-Expert     9.571429\n29            addToTop10  LC + EH      Expert    16.000000\n30            addToTop10  LC + EH  Non-Expert    12.142857\n31            addToTop10  LC + ES      Expert     9.000000\n32            addToTop10  LC + ES  Non-Expert    13.500000\n33  enlargeAnalysisImage  HC + ES      Expert     1.000000\n34  enlargeAnalysisImage  HC + ES  Non-Expert     1.000000\n35  enlargeAnalysisImage  LC + ES      Expert     1.000000\n36  enlargeAnalysisImage  LC + ES  Non-Expert     1.500000\n37            openDialog  HC + EH      Expert    25.333333\n38            openDialog  HC + EH  Non-Expert    16.500000\n39            openDialog  HC + ES      Expert     9.000000\n40            openDialog  HC + ES  Non-Expert    22.285714\n41            openDialog  LC + EH      Expert    16.500000\n42            openDialog  LC + EH  Non-Expert     8.714286\n43            openDialog  LC + ES      Expert    36.000000\n44            openDialog  LC + ES  Non-Expert    28.333333\n45             resetTopX  HC + EH  Non-Expert     1.666667\n46             resetTopX  HC + ES      Expert     3.000000\n47             resetTopX  HC + ES  Non-Expert     1.666667\n48             resetTopX  LC + EH      Expert     2.000000\n49             resetTopX  LC + EH  Non-Expert     1.666667\n50             resetTopX  LC + ES  Non-Expert     1.666667\n51       switchToDetails  HC + ES      Expert     2.666667\n52       switchToDetails  HC + ES  Non-Expert    16.571429\n53       switchToDetails  LC + ES      Expert    35.500000\n54       switchToDetails  LC + ES  Non-Expert    15.200000\n55        switchToNormal  HC + ES  Non-Expert    15.428571\n56        switchToNormal  LC + ES      Expert    42.000000\n57        switchToNormal  LC + ES  Non-Expert    10.600000",
      "text/html": "<div>\n<style scoped>\n    .dataframe tbody tr th:only-of-type {\n        vertical-align: middle;\n    }\n\n    .dataframe tbody tr th {\n        vertical-align: top;\n    }\n\n    .dataframe thead th {\n        text-align: right;\n    }\n</style>\n<table border=\"1\" class=\"dataframe\">\n  <thead>\n    <tr style=\"text-align: right;\">\n      <th></th>\n      <th>action</th>\n      <th>version</th>\n      <th>isExpert</th>\n      <th>click_count</th>\n    </tr>\n  </thead>\n  <tbody>\n    <tr>\n      <th>0</th>\n      <td>CloseDialog</td>\n      <td>HC + EH</td>\n      <td>Expert</td>\n      <td>25.000000</td>\n    </tr>\n    <tr>\n      <th>1</th>\n      <td>CloseDialog</td>\n      <td>HC + EH</td>\n      <td>Non-Expert</td>\n      <td>16.333333</td>\n    </tr>\n    <tr>\n      <th>2</th>\n      <td>CloseDialog</td>\n      <td>HC + ES</td>\n      <td>Expert</td>\n      <td>8.666667</td>\n    </tr>\n    <tr>\n      <th>3</th>\n      <td>CloseDialog</td>\n      <td>HC + ES</td>\n      <td>Non-Expert</td>\n      <td>21.714286</td>\n    </tr>\n    <tr>\n      <th>4</th>\n      <td>CloseDialog</td>\n      <td>LC + EH</td>\n      <td>Expert</td>\n      <td>17.500000</td>\n    </tr>\n    <tr>\n      <th>5</th>\n      <td>CloseDialog</td>\n      <td>LC + EH</td>\n      <td>Non-Expert</td>\n      <td>8.571429</td>\n    </tr>\n    <tr>\n      <th>6</th>\n      <td>CloseDialog</td>\n      <td>LC + ES</td>\n      <td>Expert</td>\n      <td>36.500000</td>\n    </tr>\n    <tr>\n      <th>7</th>\n      <td>CloseDialog</td>\n      <td>LC + ES</td>\n      <td>Non-Expert</td>\n      <td>27.666667</td>\n    </tr>\n    <tr>\n      <th>8</th>\n      <td>New search</td>\n      <td>HC + EH</td>\n      <td>Expert</td>\n      <td>1.000000</td>\n    </tr>\n    <tr>\n      <th>9</th>\n      <td>New search</td>\n      <td>HC + EH</td>\n      <td>Non-Expert</td>\n      <td>1.000000</td>\n    </tr>\n    <tr>\n      <th>10</th>\n      <td>New search</td>\n      <td>HC + ES</td>\n      <td>Expert</td>\n      <td>1.500000</td>\n    </tr>\n    <tr>\n      <th>11</th>\n      <td>New search</td>\n      <td>HC + ES</td>\n      <td>Non-Expert</td>\n      <td>1.000000</td>\n    </tr>\n    <tr>\n      <th>12</th>\n      <td>New search</td>\n      <td>LC + EH</td>\n      <td>Expert</td>\n      <td>2.000000</td>\n    </tr>\n    <tr>\n      <th>13</th>\n      <td>New search</td>\n      <td>LC + EH</td>\n      <td>Non-Expert</td>\n      <td>1.666667</td>\n    </tr>\n    <tr>\n      <th>14</th>\n      <td>New search</td>\n      <td>LC + ES</td>\n      <td>Expert</td>\n      <td>1.000000</td>\n    </tr>\n    <tr>\n      <th>15</th>\n      <td>New search</td>\n      <td>LC + ES</td>\n      <td>Non-Expert</td>\n      <td>4.500000</td>\n    </tr>\n    <tr>\n      <th>16</th>\n      <td>Submit Top 10</td>\n      <td>HC + EH</td>\n      <td>Expert</td>\n      <td>1.000000</td>\n    </tr>\n    <tr>\n      <th>17</th>\n      <td>Submit Top 10</td>\n      <td>HC + EH</td>\n      <td>Non-Expert</td>\n      <td>1.000000</td>\n    </tr>\n    <tr>\n      <th>18</th>\n      <td>Submit Top 10</td>\n      <td>HC + ES</td>\n      <td>Expert</td>\n      <td>1.000000</td>\n    </tr>\n    <tr>\n      <th>19</th>\n      <td>Submit Top 10</td>\n      <td>HC + ES</td>\n      <td>Non-Expert</td>\n      <td>1.166667</td>\n    </tr>\n    <tr>\n      <th>20</th>\n      <td>Submit Top 10</td>\n      <td>LC + EH</td>\n      <td>Expert</td>\n      <td>2.000000</td>\n    </tr>\n    <tr>\n      <th>21</th>\n      <td>Submit Top 10</td>\n      <td>LC + EH</td>\n      <td>Non-Expert</td>\n      <td>1.500000</td>\n    </tr>\n    <tr>\n      <th>22</th>\n      <td>Submit Top 10</td>\n      <td>LC + ES</td>\n      <td>Expert</td>\n      <td>1.000000</td>\n    </tr>\n    <tr>\n      <th>23</th>\n      <td>Submit Top 10</td>\n      <td>LC + ES</td>\n      <td>Non-Expert</td>\n      <td>2.000000</td>\n    </tr>\n    <tr>\n      <th>24</th>\n      <td>To questionnaire</td>\n      <td>LC + ES</td>\n      <td>Non-Expert</td>\n      <td>1.000000</td>\n    </tr>\n    <tr>\n      <th>25</th>\n      <td>addToTop10</td>\n      <td>HC + EH</td>\n      <td>Expert</td>\n      <td>11.333333</td>\n    </tr>\n    <tr>\n      <th>26</th>\n      <td>addToTop10</td>\n      <td>HC + EH</td>\n      <td>Non-Expert</td>\n      <td>11.500000</td>\n    </tr>\n    <tr>\n      <th>27</th>\n      <td>addToTop10</td>\n      <td>HC + ES</td>\n      <td>Expert</td>\n      <td>8.333333</td>\n    </tr>\n    <tr>\n      <th>28</th>\n      <td>addToTop10</td>\n      <td>HC + ES</td>\n      <td>Non-Expert</td>\n      <td>9.571429</td>\n    </tr>\n    <tr>\n      <th>29</th>\n      <td>addToTop10</td>\n      <td>LC + EH</td>\n      <td>Expert</td>\n      <td>16.000000</td>\n    </tr>\n    <tr>\n      <th>30</th>\n      <td>addToTop10</td>\n      <td>LC + EH</td>\n      <td>Non-Expert</td>\n      <td>12.142857</td>\n    </tr>\n    <tr>\n      <th>31</th>\n      <td>addToTop10</td>\n      <td>LC + ES</td>\n      <td>Expert</td>\n      <td>9.000000</td>\n    </tr>\n    <tr>\n      <th>32</th>\n      <td>addToTop10</td>\n      <td>LC + ES</td>\n      <td>Non-Expert</td>\n      <td>13.500000</td>\n    </tr>\n    <tr>\n      <th>33</th>\n      <td>enlargeAnalysisImage</td>\n      <td>HC + ES</td>\n      <td>Expert</td>\n      <td>1.000000</td>\n    </tr>\n    <tr>\n      <th>34</th>\n      <td>enlargeAnalysisImage</td>\n      <td>HC + ES</td>\n      <td>Non-Expert</td>\n      <td>1.000000</td>\n    </tr>\n    <tr>\n      <th>35</th>\n      <td>enlargeAnalysisImage</td>\n      <td>LC + ES</td>\n      <td>Expert</td>\n      <td>1.000000</td>\n    </tr>\n    <tr>\n      <th>36</th>\n      <td>enlargeAnalysisImage</td>\n      <td>LC + ES</td>\n      <td>Non-Expert</td>\n      <td>1.500000</td>\n    </tr>\n    <tr>\n      <th>37</th>\n      <td>openDialog</td>\n      <td>HC + EH</td>\n      <td>Expert</td>\n      <td>25.333333</td>\n    </tr>\n    <tr>\n      <th>38</th>\n      <td>openDialog</td>\n      <td>HC + EH</td>\n      <td>Non-Expert</td>\n      <td>16.500000</td>\n    </tr>\n    <tr>\n      <th>39</th>\n      <td>openDialog</td>\n      <td>HC + ES</td>\n      <td>Expert</td>\n      <td>9.000000</td>\n    </tr>\n    <tr>\n      <th>40</th>\n      <td>openDialog</td>\n      <td>HC + ES</td>\n      <td>Non-Expert</td>\n      <td>22.285714</td>\n    </tr>\n    <tr>\n      <th>41</th>\n      <td>openDialog</td>\n      <td>LC + EH</td>\n      <td>Expert</td>\n      <td>16.500000</td>\n    </tr>\n    <tr>\n      <th>42</th>\n      <td>openDialog</td>\n      <td>LC + EH</td>\n      <td>Non-Expert</td>\n      <td>8.714286</td>\n    </tr>\n    <tr>\n      <th>43</th>\n      <td>openDialog</td>\n      <td>LC + ES</td>\n      <td>Expert</td>\n      <td>36.000000</td>\n    </tr>\n    <tr>\n      <th>44</th>\n      <td>openDialog</td>\n      <td>LC + ES</td>\n      <td>Non-Expert</td>\n      <td>28.333333</td>\n    </tr>\n    <tr>\n      <th>45</th>\n      <td>resetTopX</td>\n      <td>HC + EH</td>\n      <td>Non-Expert</td>\n      <td>1.666667</td>\n    </tr>\n    <tr>\n      <th>46</th>\n      <td>resetTopX</td>\n      <td>HC + ES</td>\n      <td>Expert</td>\n      <td>3.000000</td>\n    </tr>\n    <tr>\n      <th>47</th>\n      <td>resetTopX</td>\n      <td>HC + ES</td>\n      <td>Non-Expert</td>\n      <td>1.666667</td>\n    </tr>\n    <tr>\n      <th>48</th>\n      <td>resetTopX</td>\n      <td>LC + EH</td>\n      <td>Expert</td>\n      <td>2.000000</td>\n    </tr>\n    <tr>\n      <th>49</th>\n      <td>resetTopX</td>\n      <td>LC + EH</td>\n      <td>Non-Expert</td>\n      <td>1.666667</td>\n    </tr>\n    <tr>\n      <th>50</th>\n      <td>resetTopX</td>\n      <td>LC + ES</td>\n      <td>Non-Expert</td>\n      <td>1.666667</td>\n    </tr>\n    <tr>\n      <th>51</th>\n      <td>switchToDetails</td>\n      <td>HC + ES</td>\n      <td>Expert</td>\n      <td>2.666667</td>\n    </tr>\n    <tr>\n      <th>52</th>\n      <td>switchToDetails</td>\n      <td>HC + ES</td>\n      <td>Non-Expert</td>\n      <td>16.571429</td>\n    </tr>\n    <tr>\n      <th>53</th>\n      <td>switchToDetails</td>\n      <td>LC + ES</td>\n      <td>Expert</td>\n      <td>35.500000</td>\n    </tr>\n    <tr>\n      <th>54</th>\n      <td>switchToDetails</td>\n      <td>LC + ES</td>\n      <td>Non-Expert</td>\n      <td>15.200000</td>\n    </tr>\n    <tr>\n      <th>55</th>\n      <td>switchToNormal</td>\n      <td>HC + ES</td>\n      <td>Non-Expert</td>\n      <td>15.428571</td>\n    </tr>\n    <tr>\n      <th>56</th>\n      <td>switchToNormal</td>\n      <td>LC + ES</td>\n      <td>Expert</td>\n      <td>42.000000</td>\n    </tr>\n    <tr>\n      <th>57</th>\n      <td>switchToNormal</td>\n      <td>LC + ES</td>\n      <td>Non-Expert</td>\n      <td>10.600000</td>\n    </tr>\n  </tbody>\n</table>\n</div>"
     },
     "execution_count": 150,
     "metadata": {},
     "output_type": "execute_result"
    }
   ],
   "source": [
    "actions"
   ],
   "metadata": {
    "collapsed": false,
    "pycharm": {
     "name": "#%%\n"
    }
   }
  },
  {
   "cell_type": "code",
   "execution_count": 168,
   "outputs": [
    {
     "data": {
      "text/html": "\n<style>\n  #altair-viz-7f19ea592dc44575bd10a9c0753e193b.vega-embed {\n    width: 100%;\n    display: flex;\n  }\n\n  #altair-viz-7f19ea592dc44575bd10a9c0753e193b.vega-embed details,\n  #altair-viz-7f19ea592dc44575bd10a9c0753e193b.vega-embed details summary {\n    position: relative;\n  }\n</style>\n<div id=\"altair-viz-7f19ea592dc44575bd10a9c0753e193b\"></div>\n<script type=\"text/javascript\">\n  var VEGA_DEBUG = (typeof VEGA_DEBUG == \"undefined\") ? {} : VEGA_DEBUG;\n  (function(spec, embedOpt){\n    let outputDiv = document.currentScript.previousElementSibling;\n    if (outputDiv.id !== \"altair-viz-7f19ea592dc44575bd10a9c0753e193b\") {\n      outputDiv = document.getElementById(\"altair-viz-7f19ea592dc44575bd10a9c0753e193b\");\n    }\n    const paths = {\n      \"vega\": \"https://cdn.jsdelivr.net/npm/vega@5?noext\",\n      \"vega-lib\": \"https://cdn.jsdelivr.net/npm/vega-lib?noext\",\n      \"vega-lite\": \"https://cdn.jsdelivr.net/npm/vega-lite@5.8.0?noext\",\n      \"vega-embed\": \"https://cdn.jsdelivr.net/npm/vega-embed@6?noext\",\n    };\n\n    function maybeLoadScript(lib, version) {\n      var key = `${lib.replace(\"-\", \"\")}_version`;\n      return (VEGA_DEBUG[key] == version) ?\n        Promise.resolve(paths[lib]) :\n        new Promise(function(resolve, reject) {\n          var s = document.createElement('script');\n          document.getElementsByTagName(\"head\")[0].appendChild(s);\n          s.async = true;\n          s.onload = () => {\n            VEGA_DEBUG[key] = version;\n            return resolve(paths[lib]);\n          };\n          s.onerror = () => reject(`Error loading script: ${paths[lib]}`);\n          s.src = paths[lib];\n        });\n    }\n\n    function showError(err) {\n      outputDiv.innerHTML = `<div class=\"error\" style=\"color:red;\">${err}</div>`;\n      throw err;\n    }\n\n    function displayChart(vegaEmbed) {\n      vegaEmbed(outputDiv, spec, embedOpt)\n        .catch(err => showError(`Javascript Error: ${err.message}<br>This usually means there's a typo in your chart specification. See the javascript console for the full traceback.`));\n    }\n\n    if(typeof define === \"function\" && define.amd) {\n      requirejs.config({paths});\n      require([\"vega-embed\"], displayChart, err => showError(`Error loading script: ${err.message}`));\n    } else {\n      maybeLoadScript(\"vega\", \"5\")\n        .then(() => maybeLoadScript(\"vega-lite\", \"5.8.0\"))\n        .then(() => maybeLoadScript(\"vega-embed\", \"6\"))\n        .catch(showError)\n        .then(() => displayChart(vegaEmbed));\n    }\n  })({\"config\": {\"view\": {\"continuousWidth\": 300, \"continuousHeight\": 300}}, \"data\": {\"name\": \"data-37bc9d0a692a23677759cb9238e48405\"}, \"mark\": {\"type\": \"bar\"}, \"encoding\": {\"color\": {\"field\": \"isExpert\", \"type\": \"nominal\"}, \"x\": {\"axis\": {\"labelAngle\": -45}, \"field\": \"version\", \"title\": \"Action\", \"type\": \"nominal\"}, \"xOffset\": {\"field\": \"isExpert\", \"type\": \"nominal\"}, \"y\": {\"field\": \"click_count\", \"title\": \"Average number of clicks\", \"type\": \"quantitative\"}}, \"title\": \"Average clickcount per action\", \"width\": 300, \"$schema\": \"https://vega.github.io/schema/vega-lite/v5.8.0.json\", \"datasets\": {\"data-37bc9d0a692a23677759cb9238e48405\": [{\"version\": \"HC + EH\", \"isExpert\": \"Expert\", \"click_count\": 10.961538461538462}, {\"version\": \"HC + EH\", \"isExpert\": \"Non-Expert\", \"click_count\": 7.107142857142857}, {\"version\": \"HC + ES\", \"isExpert\": \"Expert\", \"click_count\": 4.225806451612903}, {\"version\": \"HC + ES\", \"isExpert\": \"Non-Expert\", \"click_count\": 9.830985915492958}, {\"version\": \"LC + EH\", \"isExpert\": \"Expert\", \"click_count\": 9.4}, {\"version\": \"LC + EH\", \"isExpert\": \"Non-Expert\", \"click_count\": 6.23404255319149}, {\"version\": \"LC + ES\", \"isExpert\": \"Expert\", \"click_count\": 16.68421052631579}, {\"version\": \"LC + ES\", \"isExpert\": \"Non-Expert\", \"click_count\": 13.297872340425531}]}}, {\"mode\": \"vega-lite\"});\n</script>",
      "text/plain": "alt.Chart(...)"
     },
     "execution_count": 168,
     "metadata": {},
     "output_type": "execute_result"
    }
   ],
   "source": [
    "#list all actions\n",
    "\n",
    "actions = df.groupby(['userid','actionname', 'version', 'isExpert'])['actionname'].count().reset_index(name='click_count')\n",
    "\n",
    "actions = actions.groupby(['version', 'isExpert'])['click_count'].mean().reset_index()\n",
    "\n",
    "chart = alt.Chart(actions).mark_bar().encode(\n",
    "    x=alt.X('version:N', title='Action', axis=alt.Axis(labelAngle=-45)),\n",
    "    y=alt.Y('click_count:Q', title='Average number of clicks'),\n",
    "    color='isExpert:N',\n",
    "    xOffset='isExpert:N'\n",
    ").properties(\n",
    "    title='Average clickcount per action',\n",
    "    width=300\n",
    ")\n",
    "\n",
    "chart"
   ],
   "metadata": {
    "collapsed": false,
    "pycharm": {
     "name": "#%%\n"
    }
   }
  },
  {
   "cell_type": "code",
   "execution_count": 122,
   "outputs": [
    {
     "data": {
      "text/plain": "            userid  version    isExpert      clicks  times_submit\n0    019132e398e18  LC + EH      Expert   10.000000           1.0\n1    04a419bf11412  LC + ES  Non-Expert   31.000000           4.0\n2   0c215e7cea7f38  LC + EH  Non-Expert   28.000000           1.0\n3   16f7882aa59908  HC + ES  Non-Expert   47.000000           2.0\n4   29152f1697ff68  HC + EH  Non-Expert   72.000000           1.0\n5    2bf0b2caeede3  LC + EH      Expert   24.000000           2.0\n6    32993a5b624ce  HC + ES  Non-Expert   56.000000           1.0\n7    3be8366dd8f36  LC + EH  Non-Expert   17.000000           1.0\n8    41910f46383ae  LC + ES  Non-Expert   68.000000           1.0\n9    49eaabd33a20a  HC + ES      Expert   53.000000           1.0\n10   4a83d2a70ed38  LC + EH      Expert   36.000000           2.0\n11   4b4fd1df20701  HC + EH  Non-Expert   35.000000           1.0\n12  4c551d03385cc8  HC + EH  Non-Expert   30.000000           1.0\n13   5659c176d639c  HC + EH  Non-Expert   27.000000           1.0\n14  5e09a989f3a0e8  LC + ES      Expert  115.000000           1.0\n15   63b60facbb9fa  HC + ES  Non-Expert  111.000000           1.0\n16   66d235530e05e  LC + ES      Expert  167.000000           1.0\n17   71758b148f361  LC + EH  Non-Expert   24.000000           2.0\n18   79262589165e6  HC + ES      Expert    9.000000           1.0\n19   8000b24933e6f  HC + ES  Non-Expert  159.000000           1.0\n20   85270c2be10b7  LC + ES  Non-Expert   50.000000           1.0\n21    8791745ecfd4  HC + ES  Non-Expert   68.000000           1.0\n22   8a832fac71fbc  HC + EH      Expert   67.000000           1.0\n23   92541790deac9  HC + EH      Expert   34.500000           2.0\n24   92541790deac9  HC + EH  Non-Expert   34.500000           2.0\n25   99e22b182c01d  HC + EH      Expert   54.000000           1.0\n26  9bb8d10b5efac8  LC + ES  Non-Expert   69.000000           1.0\n27   a6be8c17c479a  LC + EH  Non-Expert   15.000000           1.0\n28  ac47e32ad27e18  HC + ES  Non-Expert   64.000000           1.0\n29   b267c008f5ece  LC + ES  Non-Expert   39.000000           1.0\n30    df3aaac2c129  LC + EH  Non-Expert   18.000000           3.0\n31   e22b6a3fc3f23  HC + ES      Expert   32.000000           1.0\n32   e6c309da2bc4f  LC + EH  Non-Expert   38.000000           1.0\n33   e94cf9edf908f  HC + EH  Non-Expert   45.000000           1.0\n34    eb5cdf7ca9b5  HC + ES  Non-Expert   62.000000           1.0\n35   f00db05d7655b  LC + ES  Non-Expert   74.666667           3.0\n36   f04e4b0696f26  LC + EH  Non-Expert   25.000000           1.0",
      "text/html": "<div>\n<style scoped>\n    .dataframe tbody tr th:only-of-type {\n        vertical-align: middle;\n    }\n\n    .dataframe tbody tr th {\n        vertical-align: top;\n    }\n\n    .dataframe thead th {\n        text-align: right;\n    }\n</style>\n<table border=\"1\" class=\"dataframe\">\n  <thead>\n    <tr style=\"text-align: right;\">\n      <th></th>\n      <th>userid</th>\n      <th>version</th>\n      <th>isExpert</th>\n      <th>clicks</th>\n      <th>times_submit</th>\n    </tr>\n  </thead>\n  <tbody>\n    <tr>\n      <th>0</th>\n      <td>019132e398e18</td>\n      <td>LC + EH</td>\n      <td>Expert</td>\n      <td>10.000000</td>\n      <td>1.0</td>\n    </tr>\n    <tr>\n      <th>1</th>\n      <td>04a419bf11412</td>\n      <td>LC + ES</td>\n      <td>Non-Expert</td>\n      <td>31.000000</td>\n      <td>4.0</td>\n    </tr>\n    <tr>\n      <th>2</th>\n      <td>0c215e7cea7f38</td>\n      <td>LC + EH</td>\n      <td>Non-Expert</td>\n      <td>28.000000</td>\n      <td>1.0</td>\n    </tr>\n    <tr>\n      <th>3</th>\n      <td>16f7882aa59908</td>\n      <td>HC + ES</td>\n      <td>Non-Expert</td>\n      <td>47.000000</td>\n      <td>2.0</td>\n    </tr>\n    <tr>\n      <th>4</th>\n      <td>29152f1697ff68</td>\n      <td>HC + EH</td>\n      <td>Non-Expert</td>\n      <td>72.000000</td>\n      <td>1.0</td>\n    </tr>\n    <tr>\n      <th>5</th>\n      <td>2bf0b2caeede3</td>\n      <td>LC + EH</td>\n      <td>Expert</td>\n      <td>24.000000</td>\n      <td>2.0</td>\n    </tr>\n    <tr>\n      <th>6</th>\n      <td>32993a5b624ce</td>\n      <td>HC + ES</td>\n      <td>Non-Expert</td>\n      <td>56.000000</td>\n      <td>1.0</td>\n    </tr>\n    <tr>\n      <th>7</th>\n      <td>3be8366dd8f36</td>\n      <td>LC + EH</td>\n      <td>Non-Expert</td>\n      <td>17.000000</td>\n      <td>1.0</td>\n    </tr>\n    <tr>\n      <th>8</th>\n      <td>41910f46383ae</td>\n      <td>LC + ES</td>\n      <td>Non-Expert</td>\n      <td>68.000000</td>\n      <td>1.0</td>\n    </tr>\n    <tr>\n      <th>9</th>\n      <td>49eaabd33a20a</td>\n      <td>HC + ES</td>\n      <td>Expert</td>\n      <td>53.000000</td>\n      <td>1.0</td>\n    </tr>\n    <tr>\n      <th>10</th>\n      <td>4a83d2a70ed38</td>\n      <td>LC + EH</td>\n      <td>Expert</td>\n      <td>36.000000</td>\n      <td>2.0</td>\n    </tr>\n    <tr>\n      <th>11</th>\n      <td>4b4fd1df20701</td>\n      <td>HC + EH</td>\n      <td>Non-Expert</td>\n      <td>35.000000</td>\n      <td>1.0</td>\n    </tr>\n    <tr>\n      <th>12</th>\n      <td>4c551d03385cc8</td>\n      <td>HC + EH</td>\n      <td>Non-Expert</td>\n      <td>30.000000</td>\n      <td>1.0</td>\n    </tr>\n    <tr>\n      <th>13</th>\n      <td>5659c176d639c</td>\n      <td>HC + EH</td>\n      <td>Non-Expert</td>\n      <td>27.000000</td>\n      <td>1.0</td>\n    </tr>\n    <tr>\n      <th>14</th>\n      <td>5e09a989f3a0e8</td>\n      <td>LC + ES</td>\n      <td>Expert</td>\n      <td>115.000000</td>\n      <td>1.0</td>\n    </tr>\n    <tr>\n      <th>15</th>\n      <td>63b60facbb9fa</td>\n      <td>HC + ES</td>\n      <td>Non-Expert</td>\n      <td>111.000000</td>\n      <td>1.0</td>\n    </tr>\n    <tr>\n      <th>16</th>\n      <td>66d235530e05e</td>\n      <td>LC + ES</td>\n      <td>Expert</td>\n      <td>167.000000</td>\n      <td>1.0</td>\n    </tr>\n    <tr>\n      <th>17</th>\n      <td>71758b148f361</td>\n      <td>LC + EH</td>\n      <td>Non-Expert</td>\n      <td>24.000000</td>\n      <td>2.0</td>\n    </tr>\n    <tr>\n      <th>18</th>\n      <td>79262589165e6</td>\n      <td>HC + ES</td>\n      <td>Expert</td>\n      <td>9.000000</td>\n      <td>1.0</td>\n    </tr>\n    <tr>\n      <th>19</th>\n      <td>8000b24933e6f</td>\n      <td>HC + ES</td>\n      <td>Non-Expert</td>\n      <td>159.000000</td>\n      <td>1.0</td>\n    </tr>\n    <tr>\n      <th>20</th>\n      <td>85270c2be10b7</td>\n      <td>LC + ES</td>\n      <td>Non-Expert</td>\n      <td>50.000000</td>\n      <td>1.0</td>\n    </tr>\n    <tr>\n      <th>21</th>\n      <td>8791745ecfd4</td>\n      <td>HC + ES</td>\n      <td>Non-Expert</td>\n      <td>68.000000</td>\n      <td>1.0</td>\n    </tr>\n    <tr>\n      <th>22</th>\n      <td>8a832fac71fbc</td>\n      <td>HC + EH</td>\n      <td>Expert</td>\n      <td>67.000000</td>\n      <td>1.0</td>\n    </tr>\n    <tr>\n      <th>23</th>\n      <td>92541790deac9</td>\n      <td>HC + EH</td>\n      <td>Expert</td>\n      <td>34.500000</td>\n      <td>2.0</td>\n    </tr>\n    <tr>\n      <th>24</th>\n      <td>92541790deac9</td>\n      <td>HC + EH</td>\n      <td>Non-Expert</td>\n      <td>34.500000</td>\n      <td>2.0</td>\n    </tr>\n    <tr>\n      <th>25</th>\n      <td>99e22b182c01d</td>\n      <td>HC + EH</td>\n      <td>Expert</td>\n      <td>54.000000</td>\n      <td>1.0</td>\n    </tr>\n    <tr>\n      <th>26</th>\n      <td>9bb8d10b5efac8</td>\n      <td>LC + ES</td>\n      <td>Non-Expert</td>\n      <td>69.000000</td>\n      <td>1.0</td>\n    </tr>\n    <tr>\n      <th>27</th>\n      <td>a6be8c17c479a</td>\n      <td>LC + EH</td>\n      <td>Non-Expert</td>\n      <td>15.000000</td>\n      <td>1.0</td>\n    </tr>\n    <tr>\n      <th>28</th>\n      <td>ac47e32ad27e18</td>\n      <td>HC + ES</td>\n      <td>Non-Expert</td>\n      <td>64.000000</td>\n      <td>1.0</td>\n    </tr>\n    <tr>\n      <th>29</th>\n      <td>b267c008f5ece</td>\n      <td>LC + ES</td>\n      <td>Non-Expert</td>\n      <td>39.000000</td>\n      <td>1.0</td>\n    </tr>\n    <tr>\n      <th>30</th>\n      <td>df3aaac2c129</td>\n      <td>LC + EH</td>\n      <td>Non-Expert</td>\n      <td>18.000000</td>\n      <td>3.0</td>\n    </tr>\n    <tr>\n      <th>31</th>\n      <td>e22b6a3fc3f23</td>\n      <td>HC + ES</td>\n      <td>Expert</td>\n      <td>32.000000</td>\n      <td>1.0</td>\n    </tr>\n    <tr>\n      <th>32</th>\n      <td>e6c309da2bc4f</td>\n      <td>LC + EH</td>\n      <td>Non-Expert</td>\n      <td>38.000000</td>\n      <td>1.0</td>\n    </tr>\n    <tr>\n      <th>33</th>\n      <td>e94cf9edf908f</td>\n      <td>HC + EH</td>\n      <td>Non-Expert</td>\n      <td>45.000000</td>\n      <td>1.0</td>\n    </tr>\n    <tr>\n      <th>34</th>\n      <td>eb5cdf7ca9b5</td>\n      <td>HC + ES</td>\n      <td>Non-Expert</td>\n      <td>62.000000</td>\n      <td>1.0</td>\n    </tr>\n    <tr>\n      <th>35</th>\n      <td>f00db05d7655b</td>\n      <td>LC + ES</td>\n      <td>Non-Expert</td>\n      <td>74.666667</td>\n      <td>3.0</td>\n    </tr>\n    <tr>\n      <th>36</th>\n      <td>f04e4b0696f26</td>\n      <td>LC + EH</td>\n      <td>Non-Expert</td>\n      <td>25.000000</td>\n      <td>1.0</td>\n    </tr>\n  </tbody>\n</table>\n</div>"
     },
     "execution_count": 122,
     "metadata": {},
     "output_type": "execute_result"
    }
   ],
   "source": [
    "x"
   ],
   "metadata": {
    "collapsed": false,
    "pycharm": {
     "name": "#%%\n"
    }
   }
  }
 ],
 "metadata": {
  "kernelspec": {
   "display_name": "Python 3",
   "language": "python",
   "name": "python3"
  },
  "language_info": {
   "codemirror_mode": {
    "name": "ipython",
    "version": 2
   },
   "file_extension": ".py",
   "mimetype": "text/x-python",
   "name": "python",
   "nbconvert_exporter": "python",
   "pygments_lexer": "ipython2",
   "version": "2.7.6"
  }
 },
 "nbformat": 4,
 "nbformat_minor": 0
}