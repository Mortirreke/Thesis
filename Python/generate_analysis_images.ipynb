{
 "cells": [
  {
   "cell_type": "code",
   "execution_count": 1,
   "metadata": {
    "collapsed": true
   },
   "outputs": [
    {
     "name": "stderr",
     "output_type": "stream",
     "text": [
      "/home/mortirreke/.local/lib/python3.10/site-packages/tqdm/auto.py:22: TqdmWarning: IProgress not found. Please update jupyter and ipywidgets. See https://ipywidgets.readthedocs.io/en/stable/user_install.html\n",
      "  from .autonotebook import tqdm as notebook_tqdm\n"
     ]
    },
    {
     "name": "stdout",
     "output_type": "stream",
     "text": [
      "\u001B[32m[03/20 21:41:17 d2.checkpoint.detection_checkpoint]: \u001B[0m[DetectionCheckpointer] Loading from https://dl.fbaipublicfiles.com/detectron2/COCO-InstanceSegmentation/mask_rcnn_X_101_32x8d_FPN_3x/139653917/model_final_2d9806.pkl ...\n"
     ]
    }
   ],
   "source": [
    "from pose_matching import op_utils as op\n",
    "from object_detection import od_utils as od\n",
    "import os\n",
    "import cv2"
   ]
  },
  {
   "cell_type": "code",
   "execution_count": null,
   "outputs": [],
   "source": [
    "#loop through all images in the folder\n",
    "path = \"/home/mortirreke/Desktop/assets/\"\n",
    "for i,file in enumerate(os.listdir(path)):\n",
    "    if i == 10:\n",
    "        break\n",
    "    if file.endswith(\".jpg\"):\n",
    "        #load image with opencv\n",
    "        img = cv2.imread(path+file)\n",
    "        poses, pd_scores = op.get_pose_score2(img)\n",
    "        result_image, od_scores = od.get_object_score(img)\n",
    "        result_image = op.draw_poses(result_image, poses)\n",
    "        #save image to \"/home/mortirreke/Desktop/assets/analysis/\"\n",
    "        cv2.imwrite(\"/home/mortirreke/Desktop/assets/analysis/\"+file, result_image)\n"
   ],
   "metadata": {
    "collapsed": false,
    "pycharm": {
     "is_executing": true
    }
   }
  },
  {
   "cell_type": "code",
   "execution_count": null,
   "outputs": [],
   "source": [
    "# ##\n"
   ],
   "metadata": {
    "collapsed": false,
    "pycharm": {
     "name": "#%% [markdown]\n"
    }
   }
  }
 ],
 "metadata": {
  "kernelspec": {
   "display_name": "Python 3",
   "language": "python",
   "name": "python3"
  },
  "language_info": {
   "codemirror_mode": {
    "name": "ipython",
    "version": 2
   },
   "file_extension": ".py",
   "mimetype": "text/x-python",
   "name": "python",
   "nbconvert_exporter": "python",
   "pygments_lexer": "ipython2",
   "version": "2.7.6"
  }
 },
 "nbformat": 4,
 "nbformat_minor": 0
}
